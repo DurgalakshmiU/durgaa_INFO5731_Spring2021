{
  "nbformat": 4,
  "nbformat_minor": 0,
  "metadata": {
    "colab": {
      "name": "INFO5731_Assignment_One.ipynb",
      "provenance": [],
      "collapsed_sections": [],
      "include_colab_link": true
    },
    "kernelspec": {
      "display_name": "Python 3",
      "language": "python",
      "name": "python3"
    },
    "language_info": {
      "codemirror_mode": {
        "name": "ipython",
        "version": 3
      },
      "file_extension": ".py",
      "mimetype": "text/x-python",
      "name": "python",
      "nbconvert_exporter": "python",
      "pygments_lexer": "ipython3",
      "version": "3.7.4"
    }
  },
  "cells": [
    {
      "cell_type": "markdown",
      "metadata": {
        "id": "view-in-github",
        "colab_type": "text"
      },
      "source": [
        "<a href=\"https://colab.research.google.com/github/DurgalakshmiU/durgaa_INFO5731_Spring2021/blob/main/INFO5731_Assignment_One.ipynb\" target=\"_parent\"><img src=\"https://colab.research.google.com/assets/colab-badge.svg\" alt=\"Open In Colab\"/></a>"
      ]
    },
    {
      "cell_type": "markdown",
      "metadata": {
        "id": "Ryk8D1Q4Wsrp"
      },
      "source": [
        "# **INFO5731 Assignment One**"
      ]
    },
    {
      "cell_type": "markdown",
      "metadata": {
        "id": "90_NR8c5XGWc"
      },
      "source": [
        "# Question 1\n",
        "\n",
        "(20 points). Write a Python program to generate 12 random numbers between 1 and 100. Sort the list of numbers in ascending order and print it out. Sort the list of numbers in descending order and print it out. Calculate the average for the group and print it out."
      ]
    },
    {
      "cell_type": "code",
      "metadata": {
        "colab": {
          "base_uri": "https://localhost:8080/"
        },
        "id": "5QX6bJjGWXY9",
        "outputId": "2dde4757-6fad-4535-b698-756ef77be9ca"
      },
      "source": [
        "import random\n",
        "def Rand(start,end,num):\n",
        "    res =[]\n",
        "\n",
        "    for j in range(num):\n",
        "        res.append(random.randint(start,end))\n",
        "\n",
        "    return res\n",
        "num =12\n",
        "start =1\n",
        "end =100\n",
        "a=Rand(start,end,num)\n",
        "print(a)\n",
        "a.sort()\n",
        "print(\"Ascending order: \",a)\n",
        "a.sort(reverse =True)\n",
        "print(\"Descending order: \",a)\n",
        "avg=sum(a)/num\n",
        "print(\"Average: \",avg)\n",
        "\n",
        "\n",
        "\n",
        "\n"
      ],
      "execution_count": null,
      "outputs": [
        {
          "output_type": "stream",
          "text": [
            "[43, 94, 53, 3, 52, 1, 28, 85, 59, 94, 77, 11]\n",
            "Ascending order:  [1, 3, 11, 28, 43, 52, 53, 59, 77, 85, 94, 94]\n",
            "Descending order:  [94, 94, 85, 77, 59, 53, 52, 43, 28, 11, 3, 1]\n",
            "Average:  50.0\n"
          ],
          "name": "stdout"
        }
      ]
    },
    {
      "cell_type": "markdown",
      "metadata": {
        "id": "1F_PZdH9Sh49"
      },
      "source": [
        "# Question 2\n",
        "(25 points). Write a program that will do the following string formatting tasks:\n",
        "\n",
        "(1) Ask the user to enter two sentences.\n",
        "\n",
        "(2) Make each sentence into a list. Each element in the list should correspond to a word in the sentence. For example, if the sentence is \"Alas! Am I alive? This is my first python program\", the program should print out ['Alas, '!', 'Am', 'I', 'alive, '?', 'This', 'is', 'my', 'first', 'python', 'program'].\n",
        "\n",
        "(3) Compare the two sentences. Print out a list of words that occur in both sentences.\n",
        "\n",
        "(4) Remove any punctuation from the sentence and print it back out. It should remove at least the following characters, but it can remove more: period(“.”), comma (“,”), semicolon (“;”), and colon (“:”)\n",
        "\n",
        "(5) Count the number of vowels in the sentences. Print out each vowel and the number of times it appears in the sentences, such as: a:2, e:1, i:0, etc"
      ]
    },
    {
      "cell_type": "code",
      "metadata": {
        "id": "Y0oOSlsOS0cq",
        "colab": {
          "base_uri": "https://localhost:8080/"
        },
        "outputId": "63cff978-3a65-4cba-be67-0fd97cb14c85"
      },
      "source": [
        "a,b=str (input(\"Enter sentence1: \")),str (input(\"Enter sentence2:\"))\n",
        "alphanumeric=\"\"\n",
        "print(a.split(),b.split())\n",
        "str1_w=set (a.split())\n",
        "str2_w=set (b.split())\n",
        "common=str1_w & str2_w\n",
        "print(\"List of words that occur in both sentences: \",common)\n",
        "for char in b:\n",
        "  if char.isalnum():\n",
        "    alphanumeric += char\n",
        "\n",
        "print(\"After removing punctuation:\",alphanumeric)\n",
        "lowercase1=a.lower()\n",
        "lowercase2=b.lower()\n",
        "vowel_counts1 ={}\n",
        "vowel_counts2={}\n",
        "for vowel in \"aeiou\":\n",
        "  count=lowercase1.count(vowel)\n",
        "  vowel_counts1[vowel]=count\n",
        "  count=lowercase2.count(vowel)\n",
        "  vowel_counts2[vowel]=count\n",
        "print(\"Vowels in sentence1:\",vowel_counts1,\"Vowels in sentence2:\",vowel_counts2)  \n",
        "\n",
        "\n",
        "\n",
        "\n",
        "\n",
        " \n",
        "\n",
        "\n",
        "\n",
        "\n",
        "\n"
      ],
      "execution_count": null,
      "outputs": [
        {
          "output_type": "stream",
          "text": [
            "Enter sentence1: always try hard\n",
            "Enter sentence2:work hard , get job always be happy\n",
            "['always', 'try', 'hard'] ['work', 'hard', ',', 'get', 'job', 'always', 'be', 'happy']\n",
            "List of words that occur in both sentences:  {'hard', 'always'}\n",
            "After removing punctuation: workhardgetjobalwaysbehappy\n",
            "Vowels in sentence1: {'a': 3, 'e': 0, 'i': 0, 'o': 0, 'u': 0} Vowels in sentence2: {'a': 4, 'e': 2, 'i': 0, 'o': 2, 'u': 0}\n"
          ],
          "name": "stdout"
        }
      ]
    },
    {
      "cell_type": "markdown",
      "metadata": {
        "id": "CmFoI4jDS9nx"
      },
      "source": [
        "# Question 3 \n",
        "\n",
        "(15 points). The formula that describes the volume V of a sphere with radius r is the following:\n",
        "\n",
        "$ V=\\frac{4}{3}\\ast\\ \\pi\\ast\\ r^3 $\n",
        "\n",
        "Write a program to calculate the value of V when r is in the range of 1–10. Output the result in the following format:\n",
        "\n",
        "\tr\tV\n",
        "\t1\t…\n",
        "\t2\t…\n",
        "\t3\t…\n"
      ]
    },
    {
      "cell_type": "code",
      "metadata": {
        "colab": {
          "base_uri": "https://localhost:8080/"
        },
        "id": "pEyqeioAT95b",
        "outputId": "8f9d8f46-5f49-4ab4-b3e2-2e86dbcfd377"
      },
      "source": [
        "title1=\"r\"\n",
        "title2=\"V\"\n",
        "print(\"%-7s %-7s\" %(title1,title2))\n",
        "for r in range(1,10):\n",
        "   V=(4/3)*3.14*r**3\n",
        "   print(\"%-7d %-7f\"%(r,V))\n",
        "\n",
        "    \n",
        "\n",
        "    \n",
        "    \n",
        "\n"
      ],
      "execution_count": null,
      "outputs": [
        {
          "output_type": "stream",
          "text": [
            "r       V      \n",
            "1       4.186667\n",
            "2       33.493333\n",
            "3       113.040000\n",
            "4       267.946667\n",
            "5       523.333333\n",
            "6       904.320000\n",
            "7       1436.026667\n",
            "8       2143.573333\n",
            "9       3052.080000\n"
          ],
          "name": "stdout"
        }
      ]
    },
    {
      "cell_type": "code",
      "metadata": {
        "id": "pMCr3l8tnu0j"
      },
      "source": [
        ""
      ],
      "execution_count": null,
      "outputs": []
    },
    {
      "cell_type": "markdown",
      "metadata": {
        "id": "z3tBE7E-Xn5X"
      },
      "source": [
        "# Question 4\n",
        "\n",
        "(40 points). In the field of Data Science, data is often formatted as a comma-delimited (CSV) file, where each line in a file corresponds to a field's value. Refer to Chapter 9 (p. 106) for more information on comma-delimited files. To answer this question, you will need to download the file [Assignment1_denton_housing.csv](https://github.com/unt-iialab/INFO5731_Spring2020/blob/master/Assignments/Assignment1_denton_housing.csv) included with this assignment. The [file Assignment1_denton_housing.csv](https://github.com/unt-iialab/INFO5731_Spring2020/blob/master/Assignments/Assignment1_denton_housing.csv) contains statistics about housing in the city of Denton from 2008 to 2014. Write a program to implement the following questions.\n",
        "\n",
        "(1) (10 pts) Calculate the difference in the number of Occupied Housing Units from year to year and print it. The difference must be calculated for the consecutive years such as 2008-2009, 2009-2010 etc. Finally, print the values in the ascending order.\n",
        "\n",
        "(2) (10 pts) For all the years, calculate the percentage of housing units which are vacant an occupied. Print the results in the following format:\n",
        "\n",
        "Year Vacant Housing Units Occupied Housing Units\n",
        "\n",
        "    2008  30%   70%                          \n",
        "\t2009 ----- -----\n",
        "\t2010 ----- -----\n",
        "    2011 ----- -----\n",
        "\t2012 ----- -----\n",
        "    2013 ----- -----\n",
        "\t2014 ----- -----\n",
        "  \n",
        "  \n",
        "\n",
        "(3) (10 pts) Calculate and print the valued and years in which the highest number of housing units were vacant and occupied. Print the results in the following format:  \n",
        "\n",
        "                              Year\tValue\n",
        "\tVacant Housing Units\t  -----   -----\n",
        "\tOccupied Housing Units\t-----   -----\n",
        "\n",
        "(4) (10 pts) Calculate the harmonic mean of the total housing units and print it out. You can find the information about harmonic mean here: https://ncalculators.com/statistics/harmonic-mean-calculator.htm"
      ]
    },
    {
      "cell_type": "code",
      "metadata": {
        "id": "lqGYuHBhcsRH",
        "colab": {
          "base_uri": "https://localhost:8080/"
        },
        "outputId": "b4173271-fdc9-4abf-e9f3-120e3470e1bd"
      },
      "source": [
        "f=open('Assignment1_denton_housing.csv','r')\n",
        "content=f.read()\n",
        "print(content)\n",
        "content_list=content.split(\",\")\n",
        "print(content_list)\n",
        "import csv\n",
        "import pandas as pd\n",
        "import statistics\n",
        "\n",
        "a=pd.read_csv(\"Assignment1_denton_housing.csv\")\n",
        "print(a)\n",
        "data=a\n",
        "df=pd.DataFrame(data)\n",
        "b=abs(df.iloc[2][2]-df.iloc[5][2])\n",
        "c=abs(df.iloc[5][2]-df.iloc[8][2])\n",
        "d=abs(df.iloc[8][2]-df.iloc[11][2])\n",
        "e=abs(df.iloc[11][2]-df.iloc[14][2])\n",
        "f=abs(df.iloc[14][2]-df.iloc[17][2])\n",
        "g=abs(df.iloc[17][2]-df.iloc[20][2])\n",
        "\n",
        "\n",
        "\n",
        "P=[b,c,d,e,f,g]\n",
        "print(\"Ascending order: \",sorted(P))\n",
        "v1=float((df.iloc[1][2]/df.iloc[0][2])*100)\n",
        "v2=float((df.iloc[4][2]/df.iloc[3][2])*100)\n",
        "v3=float((df.iloc[7][2]/df.iloc[6][2])*100)\n",
        "v4=float((df.iloc[10][2]/df.iloc[9][2])*100)\n",
        "v5=float((df.iloc[13][2]/df.iloc[12][2])*100)\n",
        "v6=float((df.iloc[16][2]/df.iloc[15][2])*100)\n",
        "v7=float((df.iloc[19][2]/df.iloc[18][2])*100)\n",
        "\n",
        "print(\"2008 {}% {}%\".format(round(v7),round(v14)))\n",
        "print(\"2009 {}% {}%\".format(round(v6),round(v13)))\n",
        "print(\"2010 {}% {}%\".format(round(v5),round(v12)))\n",
        "print(\"2011 {}% {}%\".format(round(v4),round(v11)))\n",
        "print(\"2012 {}% {}%\".format(round(v3),round(v10)))\n",
        "print(\"2013 {}% {}%\".format(round(v2),round(v9)))\n",
        "print(\"2014 {}% {}%\".format(round(v1),round(v8)))\n",
        "v8=float((df.iloc[2][2]/df.iloc[0][2])*100)\n",
        "v9=float((df.iloc[5][2]/df.iloc[3][2])*100)\n",
        "v10=float((df.iloc[8][2]/df.iloc[6][2])*100)\n",
        "v11=float((df.iloc[11][2]/df.iloc[9][2])*100)\n",
        "v12=float((df.iloc[14][2]/df.iloc[12][2])*100)\n",
        "v13=float((df.iloc[17][2]/df.iloc[15][2])*100)\n",
        "v14=float((df.iloc[20][2]/df.iloc[18][2])*100)\n",
        "SV=[df.iloc[1][2],df.iloc[4][2],df.iloc[7][2],df.iloc[10][2],df.iloc[13][2],df.iloc[16][2],df.iloc[19][2]]\n",
        "maximum1=max(SV)\n",
        "DV=[df.iloc[2][2],df.iloc[5][2],df.iloc[8][2],df.iloc[11][2],df.iloc[14][2],df.iloc[17][2],df.iloc[20][2]]\n",
        "maximum2=max(DV)                                                                                  \n",
        "print(\"                               year  value \")        \n",
        "print(\"Vacant Housing Units           2008    {}\".format(maximum1)) \n",
        "print(\"Occupied Housing Units         2014    {}\".format(maximum2))                                                                                                                                                                                 \n",
        "I=[df.iloc[0][2],df.iloc[3][2],df.iloc[6][2],df.iloc[9][2],df.iloc[12][2],df.iloc[15][2],df.iloc[18][2],df.iloc[3][2]]\n",
        "print(\"Harmonic Mean is % s \" % (statistics.harmonic_mean(I)))                                                                                                                                              \n",
        "                                                                                                     \n",
        "\n",
        "\n",
        "\n",
        "    \n",
        "\n",
        "\n",
        "   \n",
        "\n",
        "\n",
        "\n",
        "\n",
        "\n",
        "\n",
        "\n",
        "\n",
        "\n",
        "\n",
        "\n",
        "\n",
        "\n",
        "\n",
        "\n",
        "\n",
        "\n",
        "    \n",
        "\n",
        "\n",
        "\n",
        "\n",
        "\n",
        "\n",
        "\n",
        "\n",
        "\n",
        "    \n",
        "\n",
        "\n",
        "\n",
        "\n",
        "\n",
        "\n",
        "\n",
        "\n",
        "\n",
        "\n",
        "\n",
        "\n",
        "\n",
        "  \n",
        "\n",
        "\n",
        "\n",
        "\n",
        "\n"
      ],
      "execution_count": 127,
      "outputs": [
        {
          "output_type": "stream",
          "text": [
            "year,title_field,value\n",
            "2014,Total Housing Units,49109\n",
            "2014,Vacant Housing Units,2814\n",
            "2014,Occupied Housing Units,46295\n",
            "2013,Total Housing Units,47888\n",
            "2013,Vacant Housing Units,4215\n",
            "2013,Occupied Housing Units,43673\n",
            "2012,Total Housing Units,45121\n",
            "2012,Vacant Housing Units,3013\n",
            "2012,Occupied Housing Units,42108\n",
            "2011,Total Housing Units,44917\n",
            "2011,Vacant Housing Units,4213\n",
            "2011,Occupied Housing Units,40704\n",
            "2010,Total Housing Units,44642\n",
            "2010,Vacant Housing Units,3635\n",
            "2010,Occupied Housing Units,41007\n",
            "2009,Total Housing Units,39499\n",
            "2009,Vacant Housing Units,3583\n",
            "2009,Occupied Housing Units,35916\n",
            "2008,Total Housing Units,41194\n",
            "2008,Vacant Housing Units,4483\n",
            "2008,Occupied Housing Units,36711\n",
            "2014,Owner Occupied,21427\n",
            "2014,Renter Occupied,24868\n",
            "2013,Owner Occupied,20845\n",
            "2013,Renter Occupied,22828\n",
            "2012,Owner Occupied,20068\n",
            "2012,Renter Occupied,22040\n",
            "2011,Owner Occupied,18478\n",
            "2011,Renter Occupied,22226\n",
            "2010,Owner Occupied,18867\n",
            "2010,Renter Occupied,22140\n",
            "2009,Owner Occupied,18057\n",
            "2009,Renter Occupied,17859\n",
            "2008,Owner Occupied,17340\n",
            "2008,Renter Occupied,19371\n",
            "2014,Median Gross Rent,905\n",
            "2013,Median Gross Rent,887\n",
            "2012,Median Gross Rent,842\n",
            "2011,Median Gross Rent,821\n",
            "2010,Median Gross Rent,780\n",
            "2009,Median Gross Rent,769\n",
            "2008,Median Gross Rent,768\n",
            "\n",
            "['year', 'title_field', 'value\\n2014', 'Total Housing Units', '49109\\n2014', 'Vacant Housing Units', '2814\\n2014', 'Occupied Housing Units', '46295\\n2013', 'Total Housing Units', '47888\\n2013', 'Vacant Housing Units', '4215\\n2013', 'Occupied Housing Units', '43673\\n2012', 'Total Housing Units', '45121\\n2012', 'Vacant Housing Units', '3013\\n2012', 'Occupied Housing Units', '42108\\n2011', 'Total Housing Units', '44917\\n2011', 'Vacant Housing Units', '4213\\n2011', 'Occupied Housing Units', '40704\\n2010', 'Total Housing Units', '44642\\n2010', 'Vacant Housing Units', '3635\\n2010', 'Occupied Housing Units', '41007\\n2009', 'Total Housing Units', '39499\\n2009', 'Vacant Housing Units', '3583\\n2009', 'Occupied Housing Units', '35916\\n2008', 'Total Housing Units', '41194\\n2008', 'Vacant Housing Units', '4483\\n2008', 'Occupied Housing Units', '36711\\n2014', 'Owner Occupied', '21427\\n2014', 'Renter Occupied', '24868\\n2013', 'Owner Occupied', '20845\\n2013', 'Renter Occupied', '22828\\n2012', 'Owner Occupied', '20068\\n2012', 'Renter Occupied', '22040\\n2011', 'Owner Occupied', '18478\\n2011', 'Renter Occupied', '22226\\n2010', 'Owner Occupied', '18867\\n2010', 'Renter Occupied', '22140\\n2009', 'Owner Occupied', '18057\\n2009', 'Renter Occupied', '17859\\n2008', 'Owner Occupied', '17340\\n2008', 'Renter Occupied', '19371\\n2014', 'Median Gross Rent', '905\\n2013', 'Median Gross Rent', '887\\n2012', 'Median Gross Rent', '842\\n2011', 'Median Gross Rent', '821\\n2010', 'Median Gross Rent', '780\\n2009', 'Median Gross Rent', '769\\n2008', 'Median Gross Rent', '768\\n']\n",
            "    year             title_field  value\n",
            "0   2014     Total Housing Units  49109\n",
            "1   2014    Vacant Housing Units   2814\n",
            "2   2014  Occupied Housing Units  46295\n",
            "3   2013     Total Housing Units  47888\n",
            "4   2013    Vacant Housing Units   4215\n",
            "5   2013  Occupied Housing Units  43673\n",
            "6   2012     Total Housing Units  45121\n",
            "7   2012    Vacant Housing Units   3013\n",
            "8   2012  Occupied Housing Units  42108\n",
            "9   2011     Total Housing Units  44917\n",
            "10  2011    Vacant Housing Units   4213\n",
            "11  2011  Occupied Housing Units  40704\n",
            "12  2010     Total Housing Units  44642\n",
            "13  2010    Vacant Housing Units   3635\n",
            "14  2010  Occupied Housing Units  41007\n",
            "15  2009     Total Housing Units  39499\n",
            "16  2009    Vacant Housing Units   3583\n",
            "17  2009  Occupied Housing Units  35916\n",
            "18  2008     Total Housing Units  41194\n",
            "19  2008    Vacant Housing Units   4483\n",
            "20  2008  Occupied Housing Units  36711\n",
            "21  2014          Owner Occupied  21427\n",
            "22  2014         Renter Occupied  24868\n",
            "23  2013          Owner Occupied  20845\n",
            "24  2013         Renter Occupied  22828\n",
            "25  2012          Owner Occupied  20068\n",
            "26  2012         Renter Occupied  22040\n",
            "27  2011          Owner Occupied  18478\n",
            "28  2011         Renter Occupied  22226\n",
            "29  2010          Owner Occupied  18867\n",
            "30  2010         Renter Occupied  22140\n",
            "31  2009          Owner Occupied  18057\n",
            "32  2009         Renter Occupied  17859\n",
            "33  2008          Owner Occupied  17340\n",
            "34  2008         Renter Occupied  19371\n",
            "35  2014       Median Gross Rent    905\n",
            "36  2013       Median Gross Rent    887\n",
            "37  2012       Median Gross Rent    842\n",
            "38  2011       Median Gross Rent    821\n",
            "39  2010       Median Gross Rent    780\n",
            "40  2009       Median Gross Rent    769\n",
            "41  2008       Median Gross Rent    768\n",
            "Ascending order:  [303, 795, 1404, 1565, 2622, 5091]\n",
            "2008 11% 89%\n",
            "2009 9% 91%\n",
            "2010 8% 92%\n",
            "2011 9% 91%\n",
            "2012 7% 93%\n",
            "2013 9% 91%\n",
            "2014 6% 94%\n",
            "                               year  value \n",
            "Vacant Housing Units           2008    4483\n",
            "Occupied Housing Units         2014    46295\n",
            "Harmonic Mean is 44806.42957202384 \n"
          ],
          "name": "stdout"
        }
      ]
    }
  ]
}