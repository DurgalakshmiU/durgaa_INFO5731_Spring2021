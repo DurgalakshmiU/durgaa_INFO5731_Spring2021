{
  "nbformat": 4,
  "nbformat_minor": 0,
  "metadata": {
    "colab": {
      "name": "In_class_exercise_06.ipynb",
      "provenance": [],
      "collapsed_sections": [],
      "toc_visible": true,
      "include_colab_link": true
    },
    "kernelspec": {
      "display_name": "Python 3",
      "language": "python",
      "name": "python3"
    },
    "language_info": {
      "codemirror_mode": {
        "name": "ipython",
        "version": 3
      },
      "file_extension": ".py",
      "mimetype": "text/x-python",
      "name": "python",
      "nbconvert_exporter": "python",
      "pygments_lexer": "ipython3",
      "version": "3.8.5"
    }
  },
  "cells": [
    {
      "cell_type": "markdown",
      "metadata": {
        "id": "view-in-github",
        "colab_type": "text"
      },
      "source": [
        "<a href=\"https://colab.research.google.com/github/DurgalakshmiU/durgaa_INFO5731_Spring2021/blob/main/In_class_exercise_06.ipynb\" target=\"_parent\"><img src=\"https://colab.research.google.com/assets/colab-badge.svg\" alt=\"Open In Colab\"/></a>"
      ]
    },
    {
      "cell_type": "markdown",
      "metadata": {
        "id": "z7TahL04sVvR"
      },
      "source": [
        "# **The sixth in-class-exercise (20 points in total, 3/2/2021)**"
      ]
    },
    {
      "cell_type": "markdown",
      "metadata": {
        "id": "ejyZITr8sjnh"
      },
      "source": [
        "## **1. Rule-based information extraction (10 points)**\n",
        "\n",
        "Use any keywords related to data science, natural language processing, machine learning to search from google scholar, get the **titles** of 100 articles (either by web scraping or manually) about this topic, define a set of patterns to extract the research questions/problems, methods/algorithms/models, datasets, applications, or any other important information about this topic. "
      ]
    },
    {
      "cell_type": "code",
      "metadata": {
        "id": "XvR_O9D8sOUY",
        "colab": {
          "base_uri": "https://localhost:8080/",
          "height": 436
        },
        "outputId": "db7eb2f6-7b87-439a-9495-b674aa02cadf"
      },
      "source": [
        "import requests\r\n",
        "from bs4 import BeautifulSoup as bs\r\n",
        "import pandas as pd\r\n",
        "url='https://amankharwal.medium.com/100-machine-learning-projects-aff22b22dd6e'\r\n",
        "l1=[]\r\n",
        "req=requests.get(url)\r\n",
        "soup=bs(req.content,'html.parser')\r\n",
        "result=soup.find_all('strong',{'class':'jb cu'})\r\n",
        "for i in result:\r\n",
        "  l1.append(i.text)\r\n",
        "      #print(i.text)           #collection of 100 titles\r\n",
        "#Collected Texts in csv file\r\n",
        "import re\r\n",
        "df=pd.DataFrame()\r\n",
        "df['Title']=l1\r\n",
        "df.to_csv(r'/content/proje.csv',index=True) \r\n",
        "df"
      ],
      "execution_count": 51,
      "outputs": [
        {
          "output_type": "execute_result",
          "data": {
            "text/html": [
              "<div>\n",
              "<style scoped>\n",
              "    .dataframe tbody tr th:only-of-type {\n",
              "        vertical-align: middle;\n",
              "    }\n",
              "\n",
              "    .dataframe tbody tr th {\n",
              "        vertical-align: top;\n",
              "    }\n",
              "\n",
              "    .dataframe thead th {\n",
              "        text-align: right;\n",
              "    }\n",
              "</style>\n",
              "<table border=\"1\" class=\"dataframe\">\n",
              "  <thead>\n",
              "    <tr style=\"text-align: right;\">\n",
              "      <th></th>\n",
              "      <th>Title</th>\n",
              "    </tr>\n",
              "  </thead>\n",
              "  <tbody>\n",
              "    <tr>\n",
              "      <th>0</th>\n",
              "      <td>Practice your skills in Data Science Projects with Python, by learning and then trying all these hands-on, interactive projects, that I have posted for you. By learning and trying these projects o...</td>\n",
              "    </tr>\n",
              "    <tr>\n",
              "      <th>1</th>\n",
              "      <td>Data Science Project on President Heights</td>\n",
              "    </tr>\n",
              "    <tr>\n",
              "      <th>2</th>\n",
              "      <td>Data Science Project on Birth Rate Analysis</td>\n",
              "    </tr>\n",
              "    <tr>\n",
              "      <th>3</th>\n",
              "      <td>Data Science Project on Time Series</td>\n",
              "    </tr>\n",
              "    <tr>\n",
              "      <th>4</th>\n",
              "      <td>Data Science Project on Area and Population</td>\n",
              "    </tr>\n",
              "    <tr>\n",
              "      <th>...</th>\n",
              "      <td>...</td>\n",
              "    </tr>\n",
              "    <tr>\n",
              "      <th>102</th>\n",
              "      <td>Audio Feature Extraction</td>\n",
              "    </tr>\n",
              "    <tr>\n",
              "      <th>103</th>\n",
              "      <td>Machine Translation Model</td>\n",
              "    </tr>\n",
              "    <tr>\n",
              "      <th>104</th>\n",
              "      <td>Gender Classification Model</td>\n",
              "    </tr>\n",
              "    <tr>\n",
              "      <th>105</th>\n",
              "      <td>Originally Published at —</td>\n",
              "    </tr>\n",
              "    <tr>\n",
              "      <th>106</th>\n",
              "      <td>https://thecleverprogrammer.com/2020/06/01/work-on-data-science-projects/</td>\n",
              "    </tr>\n",
              "  </tbody>\n",
              "</table>\n",
              "<p>107 rows × 1 columns</p>\n",
              "</div>"
            ],
            "text/plain": [
              "                                                                                                                                                                                                       Title\n",
              "0    Practice your skills in Data Science Projects with Python, by learning and then trying all these hands-on, interactive projects, that I have posted for you. By learning and trying these projects o...\n",
              "1                                                                                                                                                                  Data Science Project on President Heights\n",
              "2                                                                                                                                                                Data Science Project on Birth Rate Analysis\n",
              "3                                                                                                                                                                        Data Science Project on Time Series\n",
              "4                                                                                                                                                                Data Science Project on Area and Population\n",
              "..                                                                                                                                                                                                       ...\n",
              "102                                                                                                                                                                                 Audio Feature Extraction\n",
              "103                                                                                                                                                                                Machine Translation Model\n",
              "104                                                                                                                                                                              Gender Classification Model\n",
              "105                                                                                                                                                                               Originally Published at — \n",
              "106                                                                                                                                https://thecleverprogrammer.com/2020/06/01/work-on-data-science-projects/\n",
              "\n",
              "[107 rows x 1 columns]"
            ]
          },
          "metadata": {
            "tags": []
          },
          "execution_count": 51
        }
      ]
    },
    {
      "cell_type": "code",
      "metadata": {
        "colab": {
          "base_uri": "https://localhost:8080/"
        },
        "id": "A9xIObTONPxh",
        "outputId": "2f8a006f-9dbe-429e-9eb9-0030c571a774"
      },
      "source": [
        "import nltk \r\n",
        "import spacy \r\n",
        "import pandas as pd \r\n",
        "pd.set_option('display.max_colwidth', 200)\r\n",
        "nlp = spacy.load(\"en_core_web_sm\")\r\n",
        "for i in df['Title']:\r\n",
        "  t=i\r\n",
        "  o = nlp(t)\r\n",
        "  for token in o: \r\n",
        "    print(token.text, \"----->\",token.dep_,\"----->\", token.pos_) \r\n",
        "\r\n"
      ],
      "execution_count": 57,
      "outputs": [
        {
          "output_type": "stream",
          "text": [
            "Practice -----> ROOT -----> VERB\n",
            "your -----> poss -----> DET\n",
            "skills -----> dobj -----> NOUN\n",
            "in -----> prep -----> ADP\n",
            "Data -----> compound -----> PROPN\n",
            "Science -----> compound -----> PROPN\n",
            "Projects -----> pobj -----> PROPN\n",
            "with -----> prep -----> ADP\n",
            "Python -----> pobj -----> PROPN\n",
            ", -----> punct -----> PUNCT\n",
            "by -----> prep -----> ADP\n",
            "learning -----> pcomp -----> VERB\n",
            "and -----> cc -----> CCONJ\n",
            "then -----> advmod -----> ADV\n",
            "trying -----> conj -----> VERB\n",
            "all -----> predet -----> DET\n",
            "these -----> det -----> DET\n",
            "hands -----> npadvmod -----> NOUN\n",
            "- -----> punct -----> PUNCT\n",
            "on -----> nmod -----> ADP\n",
            ", -----> punct -----> PUNCT\n",
            "interactive -----> amod -----> ADJ\n",
            "projects -----> dobj -----> NOUN\n",
            ", -----> punct -----> PUNCT\n",
            "that -----> mark -----> SCONJ\n",
            "I -----> nsubj -----> PRON\n",
            "have -----> aux -----> AUX\n",
            "posted -----> ccomp -----> VERB\n",
            "for -----> dative -----> ADP\n",
            "you -----> pobj -----> PRON\n",
            ". -----> punct -----> PUNCT\n",
            "By -----> prep -----> ADP\n",
            "learning -----> pcomp -----> VERB\n",
            "and -----> cc -----> CCONJ\n",
            "trying -----> conj -----> VERB\n",
            "these -----> det -----> DET\n",
            "projects -----> dobj -----> NOUN\n",
            "on -----> prep -----> ADP\n",
            "Data -----> compound -----> NOUN\n",
            "Science -----> pobj -----> PROPN\n",
            "you -----> nsubj -----> PRON\n",
            "will -----> aux -----> VERB\n",
            "understand -----> ROOT -----> VERB\n",
            "about -----> prep -----> ADP\n",
            "the -----> det -----> DET\n",
            "practical -----> amod -----> ADJ\n",
            "environment -----> pobj -----> NOUN\n",
            "where -----> advmod -----> ADV\n",
            "you -----> nsubj -----> PRON\n",
            "follow -----> relcl -----> VERB\n",
            "instructions -----> dobj -----> NOUN\n",
            "in -----> prep -----> ADP\n",
            "the -----> det -----> DET\n",
            "real -----> amod -----> ADJ\n",
            "- -----> punct -----> PUNCT\n",
            "time -----> pobj -----> NOUN\n",
            ". -----> punct -----> PUNCT\n",
            "Data -----> compound -----> PROPN\n",
            "Science -----> compound -----> PROPN\n",
            "Project -----> ROOT -----> PROPN\n",
            "on -----> prep -----> ADP\n",
            "President -----> compound -----> PROPN\n",
            "Heights -----> pobj -----> PROPN\n",
            "Data -----> compound -----> PROPN\n",
            "Science -----> compound -----> PROPN\n",
            "Project -----> ROOT -----> PROPN\n",
            "on -----> prep -----> ADP\n",
            "Birth -----> compound -----> PROPN\n",
            "Rate -----> compound -----> NOUN\n",
            "Analysis -----> pobj -----> PROPN\n",
            "Data -----> compound -----> PROPN\n",
            "Science -----> compound -----> PROPN\n",
            "Project -----> ROOT -----> PROPN\n",
            "on -----> prep -----> ADP\n",
            "Time -----> compound -----> PROPN\n",
            "Series -----> pobj -----> PROPN\n",
            "Data -----> compound -----> PROPN\n",
            "Science -----> compound -----> PROPN\n",
            "Project -----> ROOT -----> PROPN\n",
            "on -----> prep -----> ADP\n",
            "Area -----> pobj -----> PROPN\n",
            "and -----> cc -----> CCONJ\n",
            "Population -----> conj -----> PROPN\n",
            "Next -----> amod -----> PROPN\n",
            "Word -----> compound -----> PROPN\n",
            "Prediction -----> compound -----> PROPN\n",
            "Model -----> ROOT -----> PROPN\n",
            "Image -----> compound -----> NOUN\n",
            "Segmentation -----> ROOT -----> NOUN\n",
            "Face -----> ROOT -----> NOUN\n",
            "Landmarks -----> compound -----> PROPN\n",
            "Detection -----> dobj -----> NOUN\n",
            "OpenAI -----> compound -----> PROPN\n",
            "Gym -----> ROOT -----> PROPN\n",
            "in -----> prep -----> ADP\n",
            "Machine -----> compound -----> NOUN\n",
            "Learning -----> pobj -----> NOUN\n",
            "Machine -----> compound -----> PROPN\n",
            "Translation -----> compound -----> NOUN\n",
            "Model -----> ROOT -----> PROPN\n",
            "Build -----> ROOT -----> VERB\n",
            "the -----> det -----> DET\n",
            "TikTok -----> compound -----> PROPN\n",
            "Algorithm -----> dobj -----> PROPN\n",
            "with -----> prep -----> ADP\n",
            "Machine -----> compound -----> PROPN\n",
            "Learning -----> pobj -----> PROPN\n",
            ". -----> punct -----> PUNCT\n",
            "Analyze -----> compound -----> PROPN\n",
            "ILP -----> compound -----> PROPN\n",
            "Matches -----> ROOT -----> PROPN\n",
            ". -----> punct -----> PUNCT\n",
            "Predict -----> ROOT -----> VERB\n",
            "IPL -----> compound -----> PROPN\n",
            "Winner -----> dobj -----> PROPN\n",
            "2020 -----> nummod -----> NUM\n",
            ". -----> punct -----> PUNCT\n",
            "Predict -----> compound -----> ADJ\n",
            "Car -----> compound -----> NOUN\n",
            "Prices -----> ROOT -----> NOUN\n",
            ". -----> punct -----> PUNCT\n",
            "Analyze -----> compound -----> PROPN\n",
            "Call -----> compound -----> NOUN\n",
            "Records -----> ROOT -----> PROPN\n",
            ". -----> punct -----> PUNCT\n",
            "Create -----> ROOT -----> VERB\n",
            "an -----> det -----> DET\n",
            "API -----> dobj -----> NOUN\n",
            "with -----> prep -----> ADP\n",
            "Python -----> pobj -----> PROPN\n",
            ". -----> punct -----> PUNCT\n",
            "Send -----> ROOT -----> VERB\n",
            "Custom -----> compound -----> NOUN\n",
            "Emails -----> dobj -----> PROPN\n",
            "with -----> prep -----> ADP\n",
            "Python -----> pobj -----> PROPN\n",
            ". -----> punct -----> PUNCT\n",
            "Colour -----> compound -----> PROPN\n",
            "Recognition -----> ROOT -----> PROPN\n",
            "with -----> prep -----> ADP\n",
            "Machine -----> compound -----> PROPN\n",
            "Learning -----> pobj -----> PROPN\n",
            ". -----> punct -----> PUNCT\n",
            "Create -----> ROOT -----> VERB\n",
            "a -----> det -----> DET\n",
            "3D -----> amod -----> ADJ\n",
            "Video -----> compound -----> NOUN\n",
            "Animation -----> dobj -----> PROPN\n",
            ". -----> punct -----> PUNCT\n",
            "Image -----> compound -----> NOUN\n",
            "Features -----> compound -----> VERB\n",
            "Extraction -----> ROOT -----> PROPN\n",
            ". -----> punct -----> PUNCT\n",
            "Rainfall -----> compound -----> PROPN\n",
            "Prediction -----> ROOT -----> PROPN\n",
            "with -----> prep -----> ADP\n",
            "Machine -----> compound -----> PROPN\n",
            "Learning -----> pobj -----> PROPN\n",
            ". -----> punct -----> PUNCT\n",
            "Fraud -----> compound -----> PROPN\n",
            "Detection -----> ROOT -----> NOUN\n",
            "with -----> prep -----> ADP\n",
            "Machine -----> compound -----> PROPN\n",
            "Learning -----> pobj -----> PROPN\n",
            ". -----> punct -----> PUNCT\n",
            "Named -----> ROOT -----> PROPN\n",
            "Entity -----> compound -----> PROPN\n",
            "Recognition -----> dobj -----> PROPN\n",
            "WhatsApp -----> compound -----> PROPN\n",
            "Group -----> compound -----> PROPN\n",
            "Chat -----> compound -----> PROPN\n",
            "Analysis -----> ROOT -----> PROPN\n",
            "Translate -----> compound -----> PROPN\n",
            "Languages -----> ROOT -----> PROPN\n",
            "Using -----> acl -----> VERB\n",
            "Python -----> dobj -----> PROPN\n",
            "Network -----> compound -----> PROPN\n",
            "Security -----> compound -----> PROPN\n",
            "Analysis -----> ROOT -----> PROPN\n",
            "Bar -----> ROOT -----> PROPN\n",
            "Chart -----> compound -----> PROPN\n",
            "Race -----> dobj -----> PROPN\n",
            "with -----> prep -----> ADP\n",
            "Python -----> pobj -----> PROPN\n",
            "Keyword -----> compound -----> PROPN\n",
            "Research -----> ROOT -----> PROPN\n",
            "with -----> prep -----> ADP\n",
            "Python -----> pobj -----> PROPN\n",
            "Fashion -----> compound -----> NOUN\n",
            "Recommendation -----> compound -----> NOUN\n",
            "System -----> ROOT -----> PROPN\n",
            "Emotion -----> compound -----> NOUN\n",
            "Detection -----> compound -----> NOUN\n",
            "Model -----> ROOT -----> PROPN\n",
            "Telegram -----> compound -----> PROPN\n",
            "Bot -----> ROOT -----> PROPN\n",
            "with -----> prep -----> ADP\n",
            "Python -----> pobj -----> PROPN\n",
            "Hate -----> compound -----> PROPN\n",
            "Speech -----> compound -----> PROPN\n",
            "Detection -----> compound -----> PROPN\n",
            "Model -----> ROOT -----> PROPN\n",
            "Build -----> ROOT -----> PROPN\n",
            "Instagram -----> compound -----> PROPN\n",
            "Filters -----> dobj -----> PROPN\n",
            "with -----> prep -----> ADP\n",
            "Python -----> pobj -----> PROPN\n",
            ". -----> punct -----> PUNCT\n",
            "Contact -----> compound -----> NOUN\n",
            "Tracing -----> ROOT -----> VERB\n",
            "with -----> prep -----> ADP\n",
            "Machine -----> compound -----> NOUN\n",
            "Learning -----> pobj -----> NOUN\n",
            "Deploy -----> ROOT -----> VERB\n",
            "a -----> det -----> DET\n",
            "Chatbot -----> dobj -----> PROPN\n",
            "with -----> prep -----> ADP\n",
            "Python -----> pobj -----> PROPN\n",
            "into -----> prep -----> ADP\n",
            "a -----> det -----> DET\n",
            "Web -----> compound -----> NOUN\n",
            "Application -----> pobj -----> NOUN\n",
            "Summarize -----> ROOT -----> VERB\n",
            "Text -----> dobj -----> NOUN\n",
            "with -----> prep -----> ADP\n",
            "Machine -----> compound -----> NOUN\n",
            "Learning -----> pobj -----> NOUN\n",
            "OTP -----> compound -----> PROPN\n",
            "Verification -----> compound -----> PROPN\n",
            "GUI -----> ROOT -----> PROPN\n",
            "with -----> prep -----> ADP\n",
            "Python -----> pobj -----> PROPN\n",
            "Titanic -----> compound -----> ADJ\n",
            "Survival -----> compound -----> PROPN\n",
            "Analysis -----> ROOT -----> PROPN\n",
            "Image -----> compound -----> NOUN\n",
            "Recognition -----> ROOT -----> NOUN\n",
            "with -----> prep -----> ADP\n",
            "PyTorch -----> pobj -----> PROPN\n",
            "Gender -----> compound -----> PROPN\n",
            "Classification -----> compound -----> PROPN\n",
            "Model -----> ROOT -----> PROPN\n",
            "Daily -----> compound -----> PROPN\n",
            "Births -----> compound -----> NOUN\n",
            "Forecasting -----> ROOT -----> VERB\n",
            "Binary -----> compound -----> PROPN\n",
            "Search -----> compound -----> NOUN\n",
            "Algorithm -----> ROOT -----> PROPN\n",
            "Galaxy -----> compound -----> PROPN\n",
            "Classification -----> ROOT -----> PROPN\n",
            "with -----> prep -----> ADP\n",
            "Machine -----> compound -----> NOUN\n",
            "Learning -----> pobj -----> NOUN\n",
            "Time -----> compound -----> PROPN\n",
            "Series -----> ROOT -----> PROPN\n",
            "with -----> prep -----> ADP\n",
            "LSTM -----> compound -----> PROPN\n",
            "Model -----> pobj -----> PROPN\n",
            "Image -----> compound -----> NOUN\n",
            "Classification -----> ROOT -----> NOUN\n",
            "with -----> prep -----> ADP\n",
            "TensorFlow -----> pobj -----> PROPN\n",
            "Predict -----> ROOT -----> VERB\n",
            "Weather -----> dobj -----> NOUN\n",
            "with -----> prep -----> ADP\n",
            "Machine -----> compound -----> NOUN\n",
            "Learning -----> pobj -----> NOUN\n",
            "Create -----> ROOT -----> VERB\n",
            "a -----> det -----> DET\n",
            "Package -----> dobj -----> NOUN\n",
            "with -----> prep -----> ADP\n",
            "Python -----> pobj -----> PROPN\n",
            "Computer -----> compound -----> PROPN\n",
            "Vision -----> ROOT -----> NOUN\n",
            "with -----> prep -----> ADP\n",
            "Python -----> pobj -----> PROPN\n",
            "Diamonds -----> compound -----> VERB\n",
            "Analysis -----> ROOT -----> PROPN\n",
            "with -----> prep -----> ADP\n",
            "Python -----> pobj -----> PROPN\n",
            "Text -----> compound -----> PROPN\n",
            "Classification -----> ROOT -----> NOUN\n",
            "with -----> prep -----> ADP\n",
            "TensorFlow -----> pobj -----> PROPN\n",
            "Image -----> compound -----> NOUN\n",
            "Segmentation -----> ROOT -----> NOUN\n",
            "with -----> prep -----> ADP\n",
            "Python -----> pobj -----> PROPN\n",
            "Predict -----> compound -----> ADJ\n",
            "Fuel -----> compound -----> NOUN\n",
            "Efficiency -----> ROOT -----> NOUN\n",
            "ABC -----> compound -----> PROPN\n",
            "Analysis -----> ROOT -----> PROPN\n",
            "with -----> prep -----> ADP\n",
            "Python -----> pobj -----> PROPN\n",
            "Lung -----> compound -----> PROPN\n",
            "Segmentation -----> ROOT -----> PROPN\n",
            "with -----> prep -----> ADP\n",
            "Machine -----> compound -----> NOUN\n",
            "Learning -----> pobj -----> NOUN\n",
            "RFM -----> compound -----> PROPN\n",
            "Analysis -----> ROOT -----> PROPN\n",
            "with -----> prep -----> ADP\n",
            "Python -----> pobj -----> PROPN\n",
            "Build -----> ROOT -----> PROPN\n",
            "Neural -----> compound -----> PROPN\n",
            "Network -----> dobj -----> PROPN\n",
            "with -----> prep -----> ADP\n",
            "Python -----> compound -----> PROPN\n",
            "Code -----> pobj -----> PROPN\n",
            "Genetic -----> amod -----> ADJ\n",
            "Algorithm -----> ROOT -----> PROPN\n",
            "with -----> prep -----> ADP\n",
            "Python -----> pobj -----> PROPN\n",
            "Predict -----> ROOT -----> VERB\n",
            "Migration -----> dobj -----> NOUN\n",
            "with -----> prep -----> ADP\n",
            "Machine -----> compound -----> NOUN\n",
            "Learning -----> pobj -----> NOUN\n",
            "Analyze -----> compound -----> PROPN\n",
            "Healthcare -----> compound -----> PROPN\n",
            "Data -----> ROOT -----> PROPN\n",
            "NLP -----> ROOT -----> PROPN\n",
            "For -----> prep -----> ADP\n",
            "Other -----> amod -----> ADJ\n",
            "Languages -----> pobj -----> NOUN\n",
            "Data -----> compound -----> PROPN\n",
            "Science -----> compound -----> PROPN\n",
            "Project -----> ROOT -----> PROPN\n",
            "on -----> prep -----> ADP\n",
            "Text -----> pobj -----> PROPN\n",
            "and -----> cc -----> CCONJ\n",
            "Annotations -----> conj -----> NOUN\n",
            "Data -----> compound -----> PROPN\n",
            "Science -----> compound -----> PROPN\n",
            "Project -----> ROOT -----> PROPN\n",
            "on -----> prep -----> ADP\n",
            "— -----> punct -----> PUNCT\n",
            "Handwritten -----> compound -----> PROPN\n",
            "Digits -----> ROOT -----> PROPN\n",
            "Data -----> compound -----> PROPN\n",
            "Science -----> compound -----> PROPN\n",
            "Project -----> ROOT -----> PROPN\n",
            "on- -----> compound -----> X\n",
            "Support -----> compound -----> NOUN\n",
            "Vector -----> compound -----> NOUN\n",
            "Machines -----> ROOT -----> PROPN\n",
            "Data -----> compound -----> PROPN\n",
            "Science -----> compound -----> PROPN\n",
            "Project -----> ROOT -----> PROPN\n",
            "— -----> punct -----> PUNCT\n",
            "Stock -----> compound -----> PROPN\n",
            "Price -----> compound -----> PROPN\n",
            "Prediction -----> appos -----> PROPN\n",
            "with -----> prep -----> ADP\n",
            "Machine -----> compound -----> NOUN\n",
            "Learning -----> pobj -----> NOUN\n",
            "Data -----> compound -----> PROPN\n",
            "Science -----> compound -----> PROPN\n",
            "Project -----> ROOT -----> PROPN\n",
            "on -----> prep -----> ADP\n",
            "— -----> punct -----> PUNCT\n",
            "Classification -----> pobj -----> NOUN\n",
            "of -----> prep -----> ADP\n",
            "Text -----> pobj -----> PROPN\n",
            "Data -----> compound -----> PROPN\n",
            "Science -----> compound -----> PROPN\n",
            "Project -----> ROOT -----> PROPN\n",
            "on -----> prep -----> ADP\n",
            "- -----> punct -----> PUNCT\n",
            "Extracting -----> pobj -----> NOUN\n",
            "HOG -----> compound -----> NOUN\n",
            "Features -----> pobj -----> VERB\n",
            "Data -----> compound -----> PROPN\n",
            "Science -----> compound -----> PROPN\n",
            "Project -----> ROOT -----> PROPN\n",
            "on -----> prep -----> ADP\n",
            "— -----> punct -----> PUNCT\n",
            "Amazon -----> compound -----> PROPN\n",
            "Products -----> compound -----> PROPN\n",
            "Reviews -----> compound -----> PROPN\n",
            "Sentiment -----> compound -----> PROPN\n",
            "Analysis -----> appos -----> PROPN\n",
            "with -----> prep -----> ADP\n",
            "Machine -----> compound -----> PROPN\n",
            "Learning -----> pobj -----> PROPN\n",
            "Data -----> compound -----> PROPN\n",
            "Science -----> compound -----> PROPN\n",
            "Project -----> ROOT -----> PROPN\n",
            "— -----> punct -----> PUNCT\n",
            "Email -----> compound -----> NOUN\n",
            "spam -----> compound -----> NOUN\n",
            "Detection -----> appos -----> NOUN\n",
            "with -----> prep -----> ADP\n",
            "Machine -----> compound -----> PROPN\n",
            "Learning -----> pobj -----> NOUN\n",
            "Data -----> compound -----> PROPN\n",
            "Science -----> compound -----> PROPN\n",
            "Project -----> ROOT -----> PROPN\n",
            "— -----> punct -----> PUNCT\n",
            "Heart -----> compound -----> PROPN\n",
            "Disease -----> compound -----> PROPN\n",
            "Prediction -----> appos -----> PROPN\n",
            "with -----> prep -----> ADP\n",
            "Machine -----> compound -----> PROPN\n",
            "Learning -----> pobj -----> PROPN\n",
            "Data -----> compound -----> PROPN\n",
            "Science -----> compound -----> PROPN\n",
            "Project -----> ROOT -----> PROPN\n",
            "— -----> punct -----> PUNCT\n",
            "Movie -----> compound -----> PROPN\n",
            "Recommendation -----> compound -----> PROPN\n",
            "System -----> appos -----> PROPN\n",
            "Data -----> compound -----> PROPN\n",
            "Science -----> compound -----> PROPN\n",
            "Project -----> ROOT -----> PROPN\n",
            "— -----> punct -----> PUNCT\n",
            "Student -----> compound -----> PROPN\n",
            "Performance -----> compound -----> PROPN\n",
            "Analysis -----> appos -----> PROPN\n",
            "with -----> prep -----> ADP\n",
            "Machine -----> compound -----> PROPN\n",
            "Learning -----> pobj -----> PROPN\n",
            "Data -----> compound -----> PROPN\n",
            "Science -----> compound -----> PROPN\n",
            "Project -----> ROOT -----> PROPN\n",
            "on -----> prep -----> ADP\n",
            "FIFA -----> compound -----> PROPN\n",
            "Analysis -----> pobj -----> PROPN\n",
            "with -----> prep -----> ADP\n",
            "python -----> pobj -----> PROPN\n",
            "Data -----> compound -----> NOUN\n",
            "science -----> compound -----> NOUN\n",
            "project -----> ROOT -----> NOUN\n",
            "— -----> punct -----> PUNCT\n",
            "Fake -----> amod -----> PROPN\n",
            "News -----> compound -----> PROPN\n",
            "Classification -----> appos -----> PROPN\n",
            "Data -----> compound -----> PROPN\n",
            "Science -----> compound -----> PROPN\n",
            "Project -----> ROOT -----> PROPN\n",
            "— -----> punct -----> PUNCT\n",
            "DNA -----> compound -----> NOUN\n",
            "Sequencing -----> appos -----> VERB\n",
            "with -----> prep -----> ADP\n",
            "Machine -----> compound -----> NOUN\n",
            "Learning -----> pobj -----> NOUN\n",
            "Data -----> compound -----> PROPN\n",
            "Science -----> compound -----> PROPN\n",
            "Project -----> ROOT -----> PROPN\n",
            "— -----> punct -----> PUNCT\n",
            "Book -----> compound -----> PROPN\n",
            "Recommendation -----> compound -----> PROPN\n",
            "System -----> appos -----> PROPN\n",
            "with -----> prep -----> ADP\n",
            "Machine -----> compound -----> NOUN\n",
            "Learning -----> pobj -----> NOUN\n",
            "Data -----> compound -----> PROPN\n",
            "Science -----> compound -----> PROPN\n",
            "Project -----> ROOT -----> PROPN\n",
            "— -----> punct -----> PUNCT\n",
            "Bitcoin -----> compound -----> PROPN\n",
            "Price -----> compound -----> PROPN\n",
            "Prediction -----> appos -----> PROPN\n",
            "with -----> prep -----> ADP\n",
            "Machine -----> compound -----> NOUN\n",
            "Learning -----> pobj -----> NOUN\n",
            "Machine -----> compound -----> PROPN\n",
            "Learning -----> compound -----> PROPN\n",
            "Project -----> ROOT -----> PROPN\n",
            "— -----> punct -----> PUNCT\n",
            "Artificial -----> compound -----> ADJ\n",
            "Neural -----> compound -----> PROPN\n",
            "Networks -----> appos -----> PROPN\n",
            "Algorithmic -----> compound -----> PROPN\n",
            "Trading -----> compound -----> PROPN\n",
            "Strategy -----> ROOT -----> PROPN\n",
            "with -----> prep -----> ADP\n",
            "Machine -----> compound -----> PROPN\n",
            "Learning -----> pobj -----> PROPN\n",
            "and -----> cc -----> CCONJ\n",
            "Python -----> conj -----> PROPN\n",
            "Movie -----> compound -----> PROPN\n",
            "Reviews -----> compound -----> PROPN\n",
            "Sentiment -----> compound -----> PROPN\n",
            "Analysis -----> ROOT -----> PROPN\n",
            "-Binary -----> punct -----> PROPN\n",
            "Classification -----> ROOT -----> PROPN\n",
            "with -----> prep -----> ADP\n",
            "Machine -----> compound -----> NOUN\n",
            "Learning -----> pobj -----> NOUN\n",
            "Data -----> compound -----> PROPN\n",
            "Science -----> compound -----> PROPN\n",
            "Project -----> ROOT -----> PROPN\n",
            "— -----> punct -----> PUNCT\n",
            "Supermarket -----> compound -----> PROPN\n",
            "Sales -----> compound -----> PROPN\n",
            "Analysis -----> appos -----> PROPN\n",
            "Data -----> compound -----> PROPN\n",
            "Science -----> compound -----> PROPN\n",
            "Project -----> ROOT -----> PROPN\n",
            "— -----> punct -----> PUNCT\n",
            "GDP -----> compound -----> PROPN\n",
            "Analysis -----> appos -----> PROPN\n",
            "Data -----> compound -----> PROPN\n",
            "Science -----> compound -----> PROPN\n",
            "Project -----> ROOT -----> PROPN\n",
            "— -----> punct -----> PUNCT\n",
            "Predict -----> compound -----> PROPN\n",
            "Customer -----> compound -----> NOUN\n",
            "Churn -----> appos -----> PROPN\n",
            "with -----> prep -----> ADP\n",
            "Python -----> pobj -----> PROPN\n",
            "and -----> cc -----> CCONJ\n",
            "Machine -----> compound -----> PROPN\n",
            "Learning -----> conj -----> PROPN\n",
            "Data -----> compound -----> PROPN\n",
            "Science -----> compound -----> PROPN\n",
            "Project -----> ROOT -----> PROPN\n",
            "— -----> punct -----> PUNCT\n",
            "San -----> compound -----> PROPN\n",
            "Francisco -----> compound -----> PROPN\n",
            "Crime -----> compound -----> PROPN\n",
            "Analysis -----> appos -----> PROPN\n",
            "Machine -----> compound -----> PROPN\n",
            "Learning -----> compound -----> PROPN\n",
            "Project -----> ROOT -----> PROPN\n",
            "— -----> punct -----> PUNCT\n",
            "Human -----> compound -----> PROPN\n",
            "Activity -----> compound -----> PROPN\n",
            "Recognition -----> appos -----> PROPN\n",
            "using -----> acl -----> VERB\n",
            "Smartphone -----> compound -----> PROPN\n",
            "Data -----> dobj -----> PROPN\n",
            "Credit -----> compound -----> NOUN\n",
            "Card -----> compound -----> NOUN\n",
            "Fraud -----> compound -----> PROPN\n",
            "Detection -----> ROOT -----> NOUN\n",
            "with -----> prep -----> ADP\n",
            "Machine -----> compound -----> NOUN\n",
            "Learning -----> pobj -----> NOUN\n",
            "Weather -----> compound -----> NOUN\n",
            "Forecasting -----> ROOT -----> VERB\n",
            "with -----> prep -----> ADP\n",
            "Machine -----> compound -----> NOUN\n",
            "Learning -----> pobj -----> NOUN\n",
            "SMS -----> compound -----> PROPN\n",
            "Spam -----> compound -----> PROPN\n",
            "Detection -----> ROOT -----> PROPN\n",
            "with -----> prep -----> ADP\n",
            "Machine -----> compound -----> NOUN\n",
            "Learning -----> pobj -----> NOUN\n",
            "Covid-19 -----> compound -----> PROPN\n",
            "Detection -----> ROOT -----> NOUN\n",
            "with -----> prep -----> ADP\n",
            "Machine -----> compound -----> PROPN\n",
            "Learning -----> pobj -----> PROPN\n",
            "and -----> cc -----> CCONJ\n",
            "AI -----> conj -----> PROPN\n",
            "Customer -----> compound -----> NOUN\n",
            "Segmentation -----> ROOT -----> NOUN\n",
            "with -----> prep -----> ADP\n",
            "Machine -----> compound -----> NOUN\n",
            "Learning -----> pobj -----> NOUN\n",
            "Employee -----> compound -----> PROPN\n",
            "Turnover -----> compound -----> PROPN\n",
            "Prediction -----> ROOT -----> PROPN\n",
            "with -----> prep -----> ADP\n",
            "Machine -----> compound -----> PROPN\n",
            "Learning -----> pobj -----> PROPN\n",
            "Predict -----> ROOT -----> ADJ\n",
            "Diabetes -----> dobj -----> NOUN\n",
            "with -----> prep -----> ADP\n",
            "Machine -----> compound -----> NOUN\n",
            "Learning -----> pobj -----> NOUN\n",
            "Image -----> compound -----> NOUN\n",
            "Classification -----> ROOT -----> NOUN\n",
            "with -----> prep -----> ADP\n",
            "PyTorch -----> pobj -----> PROPN\n",
            "Time -----> compound -----> PROPN\n",
            "Series -----> compound -----> PROPN\n",
            "Forecasting -----> ROOT -----> PROPN\n",
            "with -----> prep -----> ADP\n",
            "ARIMA -----> compound -----> PROPN\n",
            "Model -----> pobj -----> NOUN\n",
            "Natural -----> compound -----> PROPN\n",
            "Language -----> compound -----> PROPN\n",
            "Processing -----> ROOT -----> PROPN\n",
            "on -----> prep -----> ADP\n",
            "WhatsApp -----> compound -----> PROPN\n",
            "Chats -----> pobj -----> NOUN\n",
            "Fake -----> amod -----> PROPN\n",
            "News -----> compound -----> PROPN\n",
            "Detection -----> compound -----> PROPN\n",
            "Model -----> ROOT -----> NOUN\n",
            "Image -----> compound -----> NOUN\n",
            "Classification -----> ROOT -----> NOUN\n",
            "with -----> prep -----> ADP\n",
            "Artificial -----> compound -----> ADJ\n",
            "Neural -----> compound -----> PROPN\n",
            "Networks -----> pobj -----> PROPN\n",
            "Binary -----> compound -----> PROPN\n",
            "Classification -----> compound -----> PROPN\n",
            "Model -----> ROOT -----> PROPN\n",
            "Data -----> compound -----> NOUN\n",
            "Augmentation -----> ROOT -----> NOUN\n",
            "with -----> prep -----> ADP\n",
            "Deep -----> compound -----> ADJ\n",
            "Learning -----> pobj -----> NOUN\n",
            "Next -----> amod -----> PROPN\n",
            "Word -----> compound -----> PROPN\n",
            "Prediction -----> compound -----> PROPN\n",
            "Model -----> ROOT -----> PROPN\n",
            ". -----> punct -----> PUNCT\n",
            "Image -----> compound -----> NOUN\n",
            "Segmentation -----> ROOT -----> NOUN\n",
            "Face -----> ROOT -----> NOUN\n",
            "Landmarks -----> compound -----> PROPN\n",
            "Detection -----> dobj -----> NOUN\n",
            "Image -----> compound -----> NOUN\n",
            "Filtering -----> ROOT -----> VERB\n",
            "with -----> prep -----> ADP\n",
            "Machine -----> compound -----> NOUN\n",
            "Learning -----> pobj -----> NOUN\n",
            "Audio -----> compound -----> ADJ\n",
            "Feature -----> compound -----> NOUN\n",
            "Extraction -----> ROOT -----> NOUN\n",
            "Machine -----> compound -----> PROPN\n",
            "Translation -----> compound -----> NOUN\n",
            "Model -----> ROOT -----> PROPN\n",
            "Gender -----> compound -----> PROPN\n",
            "Classification -----> compound -----> PROPN\n",
            "Model -----> ROOT -----> PROPN\n",
            "Originally -----> advmod -----> ADV\n",
            "Published -----> ROOT -----> VERB\n",
            "at -----> prep -----> ADP\n",
            "— -----> punct -----> PUNCT\n",
            "https://thecleverprogrammer.com/2020/06/01/work-on-data-science-projects/ -----> ROOT -----> ADV\n"
          ],
          "name": "stdout"
        }
      ]
    },
    {
      "cell_type": "code",
      "metadata": {
        "colab": {
          "base_uri": "https://localhost:8080/"
        },
        "id": "VqCUyN45PTUK",
        "outputId": "b181b04a-b5dc-4700-88f9-ebaaab35c03f"
      },
      "source": [
        "l=[]\r\n",
        "for i in df['Title']:\r\n",
        "  x = re.search('project', i)\r\n",
        "  if x:\r\n",
        "    l.append(i)\r\n",
        "print(l)"
      ],
      "execution_count": 17,
      "outputs": [
        {
          "output_type": "stream",
          "text": [
            "['Practice your skills in Data Science Projects with Python, by learning and then trying all these hands-on, interactive projects, that I have posted for you. By learning and trying these projects on Data Science you will understand about the practical environment where you follow instructions in the real-time.', 'Data science project — Fake News Classification', 'https://thecleverprogrammer.com/2020/06/01/work-on-data-science-projects/']\n"
          ],
          "name": "stdout"
        }
      ]
    },
    {
      "cell_type": "markdown",
      "metadata": {
        "id": "Dq_7VGmrsum4"
      },
      "source": [
        "## **2. Domain-specific information extraction (10 points)**\n",
        "\n",
        "For the legal case used in the data cleaning exercise: [01-05-1 Adams v Tanner.txt](https://raw.githubusercontent.com/unt-iialab/info5731_spring2021/main/class_exercises/01-05-1%20%20Adams%20v%20Tanner.txt), use [legalNLP](https://lexpredict-lexnlp.readthedocs.io/en/latest/modules/extract/extract.html#nlp-based-extraction-methods) to extract the following inforation from the text (if the information is not exist, just print None):\n",
        "\n",
        "(1) acts, e.g., “section 1 of the Advancing Hope Act, 1986”\n",
        "\n",
        "(2) amounts, e.g., “ten pounds” or “5.8 megawatts”\n",
        "\n",
        "(3) citations, e.g., “10 U.S. 100” or “1998 S. Ct. 1”\n",
        "\n",
        "(4) companies, e.g., “Lexpredict LLC”\n",
        "\n",
        "(5) conditions, e.g., “subject to …” or “unless and until …”\n",
        "\n",
        "(6) constraints, e.g., “no more than”\n",
        "\n",
        "(7) copyright, e.g., “(C) Copyright 2000 Acme”\n",
        "\n",
        "(8) courts, e.g., “Supreme Court of New York”\n",
        "\n",
        "(9) CUSIP, e.g., “392690QT3”\n",
        "\n",
        "(10) dates, e.g., “June 1, 2017” or “2018-01-01”\n",
        "\n",
        "(11) definitions, e.g., “Term shall mean …”\n",
        "\n",
        "(12) distances, e.g., “fifteen miles”\n",
        "\n",
        "(13) durations, e.g., “ten years” or “thirty days”\n",
        "\n",
        "(14) geographic and geopolitical entities, e.g., “New York” or “Norway”\n",
        "\n",
        "(15) money and currency usages, e.g., “$5” or “10 Euro”\n",
        "\n",
        "(16) percents and rates, e.g., “10%” or “50 bps”\n",
        "\n",
        "(17) PII, e.g., “212-212-2121” or “999-999-9999”\n",
        "\n",
        "(18) ratios, e.g.,” 3:1” or “four to three”\n",
        "\n",
        "(19) regulations, e.g., “32 CFR 170”\n",
        "\n",
        "(20) trademarks, e.g., “MyApp (TM)”\n",
        "\n",
        "(21) URLs, e.g., “http://acme.com/”\n",
        "\n",
        "(22) addresses, e.g., “1999 Mount Read Blvd, Rochester, NY, USA, 14615”\n",
        "\n",
        "(23) persons, e.g., “John Doe"
      ]
    },
    {
      "cell_type": "code",
      "metadata": {
        "colab": {
          "base_uri": "https://localhost:8080/",
          "height": 1000
        },
        "id": "PXT3AMVM_o4a",
        "outputId": "b433bdd1-ea0a-497a-bb8f-08f736679260"
      },
      "source": [
        "!pip install lexnlp"
      ],
      "execution_count": 18,
      "outputs": [
        {
          "output_type": "stream",
          "text": [
            "Collecting lexnlp\n",
            "\u001b[?25l  Downloading https://files.pythonhosted.org/packages/59/8f/775b5718bdee8b11bb06a4a49172abec78f9e94b865a7382b3b7d5f69cc5/lexnlp-1.8.0-py3-none-any.whl (9.8MB)\n",
            "\u001b[K     |████████████████████████████████| 9.8MB 3.0MB/s \n",
            "\u001b[?25hCollecting regex==2020.7.14\n",
            "\u001b[?25l  Downloading https://files.pythonhosted.org/packages/c7/10/a5f40a296a199dda90432ba0af4dc4221aa5cde31c62b6088c88df971e9e/regex-2020.7.14-cp37-cp37m-manylinux2010_x86_64.whl (660kB)\n",
            "\u001b[K     |████████████████████████████████| 665kB 41.4MB/s \n",
            "\u001b[?25hCollecting scipy==1.5.1\n",
            "\u001b[?25l  Downloading https://files.pythonhosted.org/packages/30/45/ff9df4beceab76f979ee0ea7f5d248596aa5b0c179aa3d30589a3f4549eb/scipy-1.5.1-cp37-cp37m-manylinux1_x86_64.whl (25.9MB)\n",
            "\u001b[K     |████████████████████████████████| 25.9MB 168kB/s \n",
            "\u001b[?25hCollecting dateparser==0.7.2\n",
            "\u001b[?25l  Downloading https://files.pythonhosted.org/packages/82/9d/51126ac615bbc4418478d725a5fa1a0f112059f6f111e4b48cfbe17ef9d0/dateparser-0.7.2-py2.py3-none-any.whl (352kB)\n",
            "\u001b[K     |████████████████████████████████| 358kB 50.8MB/s \n",
            "\u001b[?25hCollecting datefinder-lexpredict==0.6.2.1\n",
            "  Downloading https://files.pythonhosted.org/packages/45/d1/e80c60a7c23a4b16338f33345be45c64bd6ff4ef5ab67350b8c94325b8b6/datefinder_lexpredict-0.6.2.1-py2.py3-none-any.whl\n",
            "Collecting num2words==0.5.10\n",
            "\u001b[?25l  Downloading https://files.pythonhosted.org/packages/eb/a2/ea800689730732e27711c41beed4b2a129b34974435bdc450377ec407738/num2words-0.5.10-py3-none-any.whl (101kB)\n",
            "\u001b[K     |████████████████████████████████| 102kB 9.2MB/s \n",
            "\u001b[?25hCollecting requests==2.24.0\n",
            "\u001b[?25l  Downloading https://files.pythonhosted.org/packages/45/1e/0c169c6a5381e241ba7404532c16a21d86ab872c9bed8bdcd4c423954103/requests-2.24.0-py2.py3-none-any.whl (61kB)\n",
            "\u001b[K     |████████████████████████████████| 71kB 4.5MB/s \n",
            "\u001b[?25hCollecting nltk==3.5\n",
            "\u001b[?25l  Downloading https://files.pythonhosted.org/packages/92/75/ce35194d8e3022203cca0d2f896dbb88689f9b3fce8e9f9cff942913519d/nltk-3.5.zip (1.4MB)\n",
            "\u001b[K     |████████████████████████████████| 1.4MB 41.9MB/s \n",
            "\u001b[?25hCollecting reporters-db==2.0.3\n",
            "\u001b[?25l  Downloading https://files.pythonhosted.org/packages/6b/e9/498bada93e69e3162a027d9285e852c464d66aae23ec3c845700ee117414/reporters_db-2.0.3-py2.py3-none-any.whl (72kB)\n",
            "\u001b[K     |████████████████████████████████| 81kB 7.8MB/s \n",
            "\u001b[?25hCollecting scikit-learn==0.23.1\n",
            "\u001b[?25l  Downloading https://files.pythonhosted.org/packages/b8/7e/74e707b66490d4eb05f702966ad0990881127acecf9d5cdcef3c95ec6c16/scikit_learn-0.23.1-cp37-cp37m-manylinux1_x86_64.whl (6.8MB)\n",
            "\u001b[K     |████████████████████████████████| 6.8MB 42.7MB/s \n",
            "\u001b[?25hCollecting pandas==0.24.2\n",
            "\u001b[?25l  Downloading https://files.pythonhosted.org/packages/22/e6/2d47835f91eb010036be207581fa113fb4e3822ec1b4bafb0d3d105fede6/pandas-0.24.2-cp37-cp37m-manylinux1_x86_64.whl (10.1MB)\n",
            "\u001b[K     |████████████████████████████████| 10.1MB 4.8MB/s \n",
            "\u001b[?25hCollecting joblib==0.14.0\n",
            "\u001b[?25l  Downloading https://files.pythonhosted.org/packages/8f/42/155696f85f344c066e17af287359c9786b436b1bf86029bb3411283274f3/joblib-0.14.0-py2.py3-none-any.whl (294kB)\n",
            "\u001b[K     |████████████████████████████████| 296kB 53.7MB/s \n",
            "\u001b[?25hCollecting Unidecode==1.1.1\n",
            "\u001b[?25l  Downloading https://files.pythonhosted.org/packages/d0/42/d9edfed04228bacea2d824904cae367ee9efd05e6cce7ceaaedd0b0ad964/Unidecode-1.1.1-py2.py3-none-any.whl (238kB)\n",
            "\u001b[K     |████████████████████████████████| 245kB 30.6MB/s \n",
            "\u001b[?25hCollecting us==2.0.2\n",
            "  Downloading https://files.pythonhosted.org/packages/88/04/04323aefa1871de30286d3decae7706481c73bd428cf0c08e158bfa259a6/us-2.0.2.tar.gz\n",
            "Collecting numpy==1.19.1\n",
            "\u001b[?25l  Downloading https://files.pythonhosted.org/packages/50/8f/29d5688614f9bba59931683d5d353d738d4a3007833219ee19c455732753/numpy-1.19.1-cp37-cp37m-manylinux2010_x86_64.whl (14.5MB)\n",
            "\u001b[K     |████████████████████████████████| 14.5MB 327kB/s \n",
            "\u001b[?25hCollecting pycountry==20.7.3\n",
            "\u001b[?25l  Downloading https://files.pythonhosted.org/packages/76/73/6f1a412f14f68c273feea29a6ea9b9f1e268177d32e0e69ad6790d306312/pycountry-20.7.3.tar.gz (10.1MB)\n",
            "\u001b[K     |████████████████████████████████| 10.1MB 40.6MB/s \n",
            "\u001b[?25hCollecting gensim==3.8.3\n",
            "\u001b[?25l  Downloading https://files.pythonhosted.org/packages/5c/4e/afe2315e08a38967f8a3036bbe7e38b428e9b7a90e823a83d0d49df1adf5/gensim-3.8.3-cp37-cp37m-manylinux1_x86_64.whl (24.2MB)\n",
            "\u001b[K     |████████████████████████████████| 24.2MB 1.6MB/s \n",
            "\u001b[?25hRequirement already satisfied: tzlocal in /usr/local/lib/python3.7/dist-packages (from dateparser==0.7.2->lexnlp) (1.5.1)\n",
            "Requirement already satisfied: python-dateutil in /usr/local/lib/python3.7/dist-packages (from dateparser==0.7.2->lexnlp) (2.8.1)\n",
            "Requirement already satisfied: pytz in /usr/local/lib/python3.7/dist-packages (from dateparser==0.7.2->lexnlp) (2018.9)\n",
            "Requirement already satisfied: docopt>=0.6.2 in /usr/local/lib/python3.7/dist-packages (from num2words==0.5.10->lexnlp) (0.6.2)\n",
            "Requirement already satisfied: chardet<4,>=3.0.2 in /usr/local/lib/python3.7/dist-packages (from requests==2.24.0->lexnlp) (3.0.4)\n",
            "Requirement already satisfied: urllib3!=1.25.0,!=1.25.1,<1.26,>=1.21.1 in /usr/local/lib/python3.7/dist-packages (from requests==2.24.0->lexnlp) (1.24.3)\n",
            "Requirement already satisfied: idna<3,>=2.5 in /usr/local/lib/python3.7/dist-packages (from requests==2.24.0->lexnlp) (2.10)\n",
            "Requirement already satisfied: certifi>=2017.4.17 in /usr/local/lib/python3.7/dist-packages (from requests==2.24.0->lexnlp) (2020.12.5)\n",
            "Requirement already satisfied: click in /usr/local/lib/python3.7/dist-packages (from nltk==3.5->lexnlp) (7.1.2)\n",
            "Requirement already satisfied: tqdm in /usr/local/lib/python3.7/dist-packages (from nltk==3.5->lexnlp) (4.41.1)\n",
            "Requirement already satisfied: six in /usr/local/lib/python3.7/dist-packages (from reporters-db==2.0.3->lexnlp) (1.15.0)\n",
            "Collecting threadpoolctl>=2.0.0\n",
            "  Downloading https://files.pythonhosted.org/packages/f7/12/ec3f2e203afa394a149911729357aa48affc59c20e2c1c8297a60f33f133/threadpoolctl-2.1.0-py3-none-any.whl\n",
            "Collecting jellyfish==0.6.1\n",
            "\u001b[?25l  Downloading https://files.pythonhosted.org/packages/61/3f/60ac86fb43dfbf976768e80674b5538e535f6eca5aa7806cf2fdfd63550f/jellyfish-0.6.1.tar.gz (132kB)\n",
            "\u001b[K     |████████████████████████████████| 133kB 48.6MB/s \n",
            "\u001b[?25hRequirement already satisfied: smart-open>=1.8.1 in /usr/local/lib/python3.7/dist-packages (from gensim==3.8.3->lexnlp) (4.2.0)\n",
            "Building wheels for collected packages: nltk, us, pycountry, jellyfish\n",
            "  Building wheel for nltk (setup.py) ... \u001b[?25l\u001b[?25hdone\n",
            "  Created wheel for nltk: filename=nltk-3.5-cp37-none-any.whl size=1434675 sha256=705106dc6b8e232dd486e17dc8e76c9db2bcc2d3ed6c34546b072883588bcc6e\n",
            "  Stored in directory: /root/.cache/pip/wheels/ae/8c/3f/b1fe0ba04555b08b57ab52ab7f86023639a526d8bc8d384306\n",
            "  Building wheel for us (setup.py) ... \u001b[?25l\u001b[?25hdone\n",
            "  Created wheel for us: filename=us-2.0.2-cp37-none-any.whl size=11929 sha256=05d4e06e8de4a10603694d86b562dc4cded06d565dc17a7d206b3b4572f55a92\n",
            "  Stored in directory: /root/.cache/pip/wheels/e2/16/45/6453383ffa495670f0f6b80a3e697a9771d98cfbaf8b451e73\n",
            "  Building wheel for pycountry (setup.py) ... \u001b[?25l\u001b[?25hdone\n",
            "  Created wheel for pycountry: filename=pycountry-20.7.3-py2.py3-none-any.whl size=10746863 sha256=61283cba783e649480c74e769eb7b1f14923bad68424c87d2e2c099e13d2af51\n",
            "  Stored in directory: /root/.cache/pip/wheels/33/4e/a6/be297e6b83567e537bed9df4a93f8590ec01c1acfbcd405348\n",
            "  Building wheel for jellyfish (setup.py) ... \u001b[?25l\u001b[?25hdone\n",
            "  Created wheel for jellyfish: filename=jellyfish-0.6.1-cp37-cp37m-linux_x86_64.whl size=72166 sha256=600767d53cb27c2aff332ef610535631c258182ba3b2e5466060fed0a7bec62f\n",
            "  Stored in directory: /root/.cache/pip/wheels/9c/6f/33/92bb9a4b4562a60ba6a80cedbab8907e48bc7a8b1f369ea0ae\n",
            "Successfully built nltk us pycountry jellyfish\n",
            "\u001b[31mERROR: xarray 0.15.1 has requirement pandas>=0.25, but you'll have pandas 0.24.2 which is incompatible.\u001b[0m\n",
            "\u001b[31mERROR: tensorflow 2.4.1 has requirement numpy~=1.19.2, but you'll have numpy 1.19.1 which is incompatible.\u001b[0m\n",
            "\u001b[31mERROR: plotnine 0.6.0 has requirement pandas>=0.25.0, but you'll have pandas 0.24.2 which is incompatible.\u001b[0m\n",
            "\u001b[31mERROR: mizani 0.6.0 has requirement pandas>=0.25.0, but you'll have pandas 0.24.2 which is incompatible.\u001b[0m\n",
            "\u001b[31mERROR: google-colab 1.0.0 has requirement pandas~=1.1.0; python_version >= \"3.0\", but you'll have pandas 0.24.2 which is incompatible.\u001b[0m\n",
            "\u001b[31mERROR: google-colab 1.0.0 has requirement requests~=2.23.0, but you'll have requests 2.24.0 which is incompatible.\u001b[0m\n",
            "\u001b[31mERROR: fbprophet 0.7.1 has requirement pandas>=1.0.4, but you'll have pandas 0.24.2 which is incompatible.\u001b[0m\n",
            "\u001b[31mERROR: datascience 0.10.6 has requirement folium==0.2.1, but you'll have folium 0.8.3 which is incompatible.\u001b[0m\n",
            "\u001b[31mERROR: albumentations 0.1.12 has requirement imgaug<0.2.7,>=0.2.5, but you'll have imgaug 0.2.9 which is incompatible.\u001b[0m\n",
            "Installing collected packages: regex, numpy, scipy, dateparser, datefinder-lexpredict, num2words, requests, joblib, nltk, reporters-db, threadpoolctl, scikit-learn, pandas, Unidecode, jellyfish, us, pycountry, gensim, lexnlp\n",
            "  Found existing installation: regex 2019.12.20\n",
            "    Uninstalling regex-2019.12.20:\n",
            "      Successfully uninstalled regex-2019.12.20\n",
            "  Found existing installation: numpy 1.19.5\n",
            "    Uninstalling numpy-1.19.5:\n",
            "      Successfully uninstalled numpy-1.19.5\n",
            "  Found existing installation: scipy 1.4.1\n",
            "    Uninstalling scipy-1.4.1:\n",
            "      Successfully uninstalled scipy-1.4.1\n",
            "  Found existing installation: requests 2.23.0\n",
            "    Uninstalling requests-2.23.0:\n",
            "      Successfully uninstalled requests-2.23.0\n",
            "  Found existing installation: joblib 1.0.1\n",
            "    Uninstalling joblib-1.0.1:\n",
            "      Successfully uninstalled joblib-1.0.1\n",
            "  Found existing installation: nltk 3.2.5\n",
            "    Uninstalling nltk-3.2.5:\n",
            "      Successfully uninstalled nltk-3.2.5\n",
            "  Found existing installation: scikit-learn 0.22.2.post1\n",
            "    Uninstalling scikit-learn-0.22.2.post1:\n",
            "      Successfully uninstalled scikit-learn-0.22.2.post1\n",
            "  Found existing installation: pandas 1.1.5\n",
            "    Uninstalling pandas-1.1.5:\n",
            "      Successfully uninstalled pandas-1.1.5\n",
            "  Found existing installation: gensim 3.6.0\n",
            "    Uninstalling gensim-3.6.0:\n",
            "      Successfully uninstalled gensim-3.6.0\n",
            "Successfully installed Unidecode-1.1.1 datefinder-lexpredict-0.6.2.1 dateparser-0.7.2 gensim-3.8.3 jellyfish-0.6.1 joblib-0.14.0 lexnlp-1.8.0 nltk-3.5 num2words-0.5.10 numpy-1.19.1 pandas-0.24.2 pycountry-20.7.3 regex-2020.7.14 reporters-db-2.0.3 requests-2.24.0 scikit-learn-0.23.1 scipy-1.5.1 threadpoolctl-2.1.0 us-2.0.2\n"
          ],
          "name": "stdout"
        },
        {
          "output_type": "display_data",
          "data": {
            "application/vnd.colab-display-data+json": {
              "pip_warning": {
                "packages": [
                  "joblib",
                  "nltk",
                  "numpy",
                  "pandas",
                  "regex",
                  "requests",
                  "scipy",
                  "sklearn"
                ]
              }
            }
          },
          "metadata": {
            "tags": []
          }
        }
      ]
    },
    {
      "cell_type": "code",
      "metadata": {
        "colab": {
          "base_uri": "https://localhost:8080/"
        },
        "id": "wvz54QrLGt5I",
        "outputId": "9643105e-931c-4360-d328-5829627e6a97"
      },
      "source": [
        "file= open(\"/content/01-05-1  Adams v Tanner.txt\").read()\r\n",
        "import nltk\r\n",
        "nltk.download('punkt')\r\n",
        "nltk.download('averaged_perceptron_tagger')\r\n",
        "nltk.download('wordnet')"
      ],
      "execution_count": 20,
      "outputs": [
        {
          "output_type": "stream",
          "text": [
            "[nltk_data] Downloading package punkt to /root/nltk_data...\n",
            "[nltk_data]   Unzipping tokenizers/punkt.zip.\n",
            "[nltk_data] Downloading package averaged_perceptron_tagger to\n",
            "[nltk_data]     /root/nltk_data...\n",
            "[nltk_data]   Unzipping taggers/averaged_perceptron_tagger.zip.\n",
            "[nltk_data] Downloading package wordnet to /root/nltk_data...\n",
            "[nltk_data]   Unzipping corpora/wordnet.zip.\n"
          ],
          "name": "stdout"
        },
        {
          "output_type": "execute_result",
          "data": {
            "text/plain": [
              "True"
            ]
          },
          "metadata": {
            "tags": []
          },
          "execution_count": 20
        }
      ]
    },
    {
      "cell_type": "code",
      "metadata": {
        "colab": {
          "base_uri": "https://localhost:8080/"
        },
        "id": "9WB1DyYBLGSx",
        "outputId": "2f457168-4d8d-4aa4-c28b-9fcb95370ebc"
      },
      "source": [
        "import lexnlp.extract.en.acts          #Acts\r\n",
        "def get(word,data):\r\n",
        "  if len(data)==0:\r\n",
        "    print(f\"{word} :None\")\r\n",
        "    print()\r\n",
        "  else:\r\n",
        "    print(f\"{word} :{data}\")\r\n",
        "    print()\r\n",
        "get('Acts',list(lexnlp.extract.en.acts.get_act_list(file)))\r\n"
      ],
      "execution_count": 21,
      "outputs": [
        {
          "output_type": "stream",
          "text": [
            "Acts :None\n",
            "\n"
          ],
          "name": "stdout"
        }
      ]
    },
    {
      "cell_type": "code",
      "metadata": {
        "colab": {
          "base_uri": "https://localhost:8080/"
        },
        "id": "ocqTIEyZLFwx",
        "outputId": "923e87ac-3bbe-4dec-9ae0-632f605cef6f"
      },
      "source": [
        "import lexnlp.extract.en.amounts         #Amounts\r\n",
        "def get(word,data):\r\n",
        "  if len(data)==0:\r\n",
        "    print(f\"{word} :None\")\r\n",
        "    print()\r\n",
        "  else:\r\n",
        "    print(f\"{word} :{data}\")\r\n",
        "    print()\r\n",
        "get('amounts',list(lexnlp.extract.en.amounts.get_amounts(file)))"
      ],
      "execution_count": 22,
      "outputs": [
        {
          "output_type": "stream",
          "text": [
            "amounts :[Decimal('5.0'), Decimal('740.0'), Decimal('1843.0'), Decimal('2.0'), Decimal('1.0'), Decimal('4.0'), Decimal('2.0'), Decimal('1821.0'), Decimal('5.0'), Decimal('1.0'), Decimal('1840.0'), Decimal('3777.0'), Decimal('80.0'), Decimal('100.0'), Decimal('30.0'), Decimal('1839.0'), Decimal('741.0'), Decimal('22.0'), Decimal('1840.0'), Decimal('14000.0'), Decimal('120.0'), Decimal('1.0'), Decimal('1840.0'), Decimal('3.0'), Decimal('4.0'), Decimal('1.0'), Decimal('1.0'), Decimal('1840.0'), Decimal('2.0'), Decimal('1.0'), Decimal('361.0'), Decimal('1.0'), Decimal('307.0'), Decimal('6.0'), Decimal('604.0'), Decimal('1.0'), Decimal('2.0'), Decimal('418.0'), Decimal('422.0'), Decimal('7.0'), Decimal('34.0'), Decimal('41.0'), Decimal('167.0'), Decimal('742.0'), Decimal('3.0'), Decimal('112.0'), Decimal('207.0'), Decimal('3.0'), Decimal('338.0'), Decimal('424.0'), Decimal('5.0'), Decimal('26.0'), Decimal('13.0'), Decimal('235.0'), Decimal('8.0'), Decimal('693.0'), Decimal('4.0'), Decimal('1821.0'), Decimal('167.0'), Decimal('2.0'), Decimal('2.0'), Decimal('216.0'), Decimal('3.0'), Decimal('66.0'), Decimal('4.0'), Decimal('130.0'), Decimal('29.0'), Decimal('2.0'), Decimal('241.0'), Decimal('2.0'), Decimal('332.0'), Decimal('2.0'), Decimal('422.0'), Decimal('9.0'), Decimal('112.0'), Decimal('743.0'), Decimal('9.0'), Decimal('39.0'), Decimal('14000.0'), Decimal('1840.0'), Decimal('744.0'), Decimal('5.0'), Decimal('182.0'), Decimal('3.0'), Decimal('368.0'), Decimal('1.0'), Decimal('397.0'), Decimal('6.0'), Decimal('604.0'), Decimal('1.0'), Decimal('1821.0'), Decimal('167.0'), Decimal('745.0'), Decimal('4.0'), Decimal('746.0'), Decimal('4.0'), Decimal('210.0'), Decimal('46.0'), Decimal('747.0'), Decimal('5.0'), Decimal('5.0'), Decimal('740.0'), Decimal('1843.0'), Decimal('284.0'), Decimal('2019.0'), Decimal('9.0'), Decimal('1.0'), Decimal('55.0'), Decimal('266.0'), Decimal('271.0'), Decimal('1876.0'), Decimal('2.0'), Decimal('47.0'), Decimal('362.0'), Decimal('376.0'), Decimal('1872.0'), Decimal('3.0'), Decimal('45.0'), Decimal('329.0'), Decimal('334.0'), Decimal('1871.0'), Decimal('4.0'), Decimal('31.0'), Decimal('526.0'), Decimal('527.0'), Decimal('1858.0'), Decimal('5.0'), Decimal('21.0'), Decimal('333.0'), Decimal('335.0'), Decimal('1852.0'), Decimal('6.0'), Decimal('8.0'), Decimal('145.0'), Decimal('147.0'), Decimal('1857.0'), Decimal('7.0'), Decimal('65.0'), Decimal('256.0'), Decimal('258.0'), Decimal('3.0'), Decimal('1880.0'), Decimal('8.0'), Decimal('4.0'), Decimal('913.0'), Decimal('914.0'), Decimal('1887.0'), Decimal('9.0'), Decimal('103.0'), Decimal('464.0'), Decimal('1936.0'), Decimal('3.0'), Decimal('1.0'), Decimal('9.0'), Decimal('39.0'), Decimal('1828.0'), Decimal('2.0'), Decimal('2.0'), Decimal('5.0'), Decimal('182.0'), Decimal('1837.0'), Decimal('2.0'), Decimal('3.0'), Decimal('9.0'), Decimal('108.0'), Decimal('1812.0'), Decimal('6.0'), Decimal('1.0'), Decimal('2.0')]\n",
            "\n"
          ],
          "name": "stdout"
        }
      ]
    },
    {
      "cell_type": "code",
      "metadata": {
        "colab": {
          "base_uri": "https://localhost:8080/"
        },
        "id": "WKm7ev7sHCSQ",
        "outputId": "037f6927-4595-4052-c42c-716fc2aa23c4"
      },
      "source": [
        "import lexnlp.extract.en.citations          #Citations\r\n",
        "def get(word,data):\r\n",
        "  if len(data)==0:\r\n",
        "    print(f\"{word} :None\")\r\n",
        "    print()\r\n",
        "  else:\r\n",
        "    print(f\"{word} :{data}\")\r\n",
        "    print()\r\n",
        "get('citations',list(lexnlp.extract.en.citations.get_citations(file)))"
      ],
      "execution_count": 23,
      "outputs": [
        {
          "output_type": "stream",
          "text": [
            "citations :[(5, 'Ala.', 'Alabama Reports', 740, None, None, None), (5, 'Ala.', 'Alabama Reports', 740, '1843', None, None), (55, 'Ala.', 'Alabama Reports', 266, '271', None, None), (47, 'Ala.', 'Alabama Reports', 362, '376', None, None), (45, 'Ala.', 'Alabama Reports', 329, '334', None, None), (31, 'Ala.', 'Alabama Reports', 526, '527', None, None), (21, 'Ala.', 'Alabama Reports', 333, '335', None, None), (8, 'Cal.', 'California Reports', 145, '147', None, None), (65, 'Ala.', 'Alabama Reports', 256, '258', None, None), (4, 'S.W.', 'South Western Reporter', 913, '914', None, None), (103, 'A.L.R.', 'American Law Reports', 464, None, None, None), (9, 'Cow.', \"Cowen's Reports\", 39, None, None, None), (5, 'Port.', 'Alabama Reports, Porter', 182, None, None, None), (9, 'Johns.', \"Johnson's Reports\", 108, None, None, None)]\n",
            "\n"
          ],
          "name": "stdout"
        }
      ]
    },
    {
      "cell_type": "code",
      "metadata": {
        "colab": {
          "base_uri": "https://localhost:8080/"
        },
        "id": "B6qCbOlDHnOQ",
        "outputId": "7ca82885-2b39-4424-91b2-2ed50ca33e5c"
      },
      "source": [
        "import lexnlp.extract.en.entities.nltk_re      #entities\r\n",
        "def get(word,data):\r\n",
        "  if len(data)==0:\r\n",
        "    print(f\"{word} :None\")\r\n",
        "    print()\r\n",
        "  else:\r\n",
        "    print(f\"{word} :{data}\")\r\n",
        "    print()\r\n",
        "get('entities',list(lexnlp.extract.en.entities.nltk_re.get_companies(file)))\r\n"
      ],
      "execution_count": 24,
      "outputs": [
        {
          "output_type": "stream",
          "text": [
            "entities :[Lehman, Durr Co, (17983, 18001)]\n",
            "\n"
          ],
          "name": "stdout"
        }
      ]
    },
    {
      "cell_type": "code",
      "metadata": {
        "colab": {
          "base_uri": "https://localhost:8080/"
        },
        "id": "cPrzPoe1H2Sa",
        "outputId": "a42ba9c8-768c-455c-8f11-1266b4e8a86f"
      },
      "source": [
        "import lexnlp.extract.en.conditions           #conditions\r\n",
        "def get(word,data):\r\n",
        "  if len(data)==0:\r\n",
        "    print(f\"{word} :None\")\r\n",
        "    print()\r\n",
        "  else:\r\n",
        "    print(f\"{word} :{data}\")\r\n",
        "    print()\r\n",
        "get('conditions',list(lexnlp.extract.en.conditions.get_conditions(file)))\r\n"
      ],
      "execution_count": 26,
      "outputs": [
        {
          "output_type": "stream",
          "text": [
            "conditions :[('until', '[2]\\nCreditors’ Remedies\\nLien and Priority\\nUnder St.1821, prohibiting a levy on a crop', ''), ('until', 'on a growing crop, nor does such lien attach', ''), ('if', 'It was proved by the claimants, by the production of a written contract, that Harrison, on the twenty-second of May, 1840, in consideration that the claimants were involved, as indorsers for Burton & Harrison of Sumter county, and were then exposed to an execution, amounting to upwards of fourteen thousand dollars, bargained and sold to the claimants all his growing crop of cotton &c., consisting of one hundred and twenty acres, &c. Allen Harrison promised and obliged himself to give up his crop to the use of the claimants at any time to save them from suffering as his indorsers;', ''), ('when', 'The claimants came from Tennessee, (where they resided) about the first of September, 1840, bringing with them three or four white laborers, and took possession of the crop and slaves, and with the latter, and white laborers, gathered the cotton, prepared it for market, and', ''), ('if', 'The court charged the jury, that the plaintiff had no lien by virtue of his judgment, and execution on the growing crop; that Harrison had a right to convey it, without being in any manner restrained by them; that the writing adduced, was a sale of the crop, but', ''), ('when', 'it was not, and the lien of the fieri facias would have attached upon it,', ''), ('if', 'gathered, yet', ''), ('not subject to', 'the claimants obtained possession on the first of September, and controlled the gathering of the crop, then no lien attached, and it was', ''), ('until', 'Rep, 693;] and', ''), ('until', '167,] which declares it to be lawful to levy an execution on a planted crop,', ''), ('if', 'It is admitted that the contract between the defendant in execution, and the claimants, was in good faith,', ''), ('when', 'The defendant in execution might at any time have divested the interest which the contract vested in the claimants, by discharging their liability as his indorsers, or a judgment creditor might have satisfied the lien, and', ''), ('unless', 'We will then consider the writing under which the claimants assert a right, as a mortgage with a power to take possession any time during the year,', ''), ('if', 'Conceding the truth of the facts stated in the bill of exceptions, and we think it will not follow, that the possession of the claimants is a nullity, and that the case must be considered as', ''), ('if', 'The contract contains an express undertaking to give up the crop at any time the claimants might require it for their indemnity, and', ''), ('if', 'they took possession of it in the absence of the grantor, (though without his consent,)', ''), ('if', 'he subsequently acquiesced in it, the inference would be,', ''), ('subject to', 'Mr. Dane, in remarking upon this point, says, “The American editor of Bacon’s Abridgment, says, ‘Wheat growing in the ground is a chattel, and', ''), ('until', 'The first section of the act of 1821, “To prevent sheriffs and other officers from levying executions in certain cases, enacts, that “It shall not be lawful for any sheriff or other officer, to levy a writ of fieri facias or other execution on the planted crop of a debtor, or person against whom an execution may issue,', ''), ('until', 'Now here is an express inhibition to levy an execution on a crop while it remains on, or in the ground, and', ''), ('until', 'If so, the act cited, will only have the effect of keeping the right to levy it in abeyance', ''), ('if', 'The lien and the right to levy are intimately connected, and', ''), ('until', 'That it was competent for the legislature to have made it unlawful to levy an execution on particular property,', ''), ('until', 'If the object was merely to suspend the sale,', ''), ('as soon as', 'The idea that the lien attached upon the planted crop', ''), ('until', 'the execution was delivered to the sheriff, though the right to levy it was postponed', ''), ('if', 'They do not refer to the lien,', ''), ('until', 'they did they would postpone it', ''), ('until', 'the crop was gathered; but it is the levy they relate to and postpone', ''), ('until', '**4 The right to levy an execution on a planted crop, then, being expressly taken away by the statute, the lien which is connected with and consequent upon that right, never attaches', ''), ('if', 'The circuit judge may have mistaken the law in supposing that the contract was a sale, but', ''), ('when', 'There is no assumption of any material fact in the charge; but the possession of the claimant, the time', ''), ('if', 'acquired, the gathering of the crop, &c., are all referred to the determination of the jury; who are instructed,', ''), ('until', '**4 The statute which presents the question before the court is, that “it shall not be lawful for any sheriff or other officer to levy a writ of fieei facias or other execution, on the planted crop of a debtor, or person against whom an execution may issue,', ''), ('subject to', 'The policy of the State, as indicated by these statutes, is undeniably that all the property of a debtor, real and personal, to which he has a legal title, shall be', ''), ('until', 'The mischief which the statute designed to remedy was, the sacrifice which would be necessarily made by the sale of an immature crop: the statute enables the debtor to retain it', ''), ('if', '**5', ''), ('until', 'The sheriff is forbidden to levy on a “planted crop”', ''), ('if', 'Now,', ''), ('until', 'This, I feel a thorough conviction, was not the intention of the legislature; but that it was to secure him from loss, by prohibiting a levy and sale of the crop,', ''), ('when', 'it was gathered,', ''), ('subject to', 'Growing crops as', ''), ('subject to', '464\\nGenerally, at common law, growing crops raised by annual planting, while still attached to the soil, are regarded as personal chattels,', ''), ('where', 'And', '')]\n",
            "\n"
          ],
          "name": "stdout"
        }
      ]
    },
    {
      "cell_type": "code",
      "metadata": {
        "colab": {
          "base_uri": "https://localhost:8080/"
        },
        "id": "qlIG_-k3ICTx",
        "outputId": "81be7251-13c3-4979-97eb-1c25e87ef822"
      },
      "source": [
        "import lexnlp.extract.en.constraints            #constraints\r\n",
        "def get(word,data):\r\n",
        "  if len(data)==0:\r\n",
        "    print(f\"{word} :None\")\r\n",
        "    print()\r\n",
        "  else:\r\n",
        "    print(f\"{word} :{data}\")\r\n",
        "    print()\r\n",
        "get('constraints',list(lexnlp.extract.en.constraints.get_constraints(file)))\r\n"
      ],
      "execution_count": 27,
      "outputs": [
        {
          "output_type": "stream",
          "text": [
            "constraints :[('after', 'on a growing crop, nor does such lien attach until', ''), ('after', '', ' and that alias and pluries fieri facias’, issued regularly up to the time levy was made; that the cotton levied on was growed on the plantation of harrison, and cultivated by the hands in his service.'), ('first of', 'the claimants came from tennessee, (where they resided) about the', ''), ('first of', 'the court charged the jury, that the plaintiff had no lien by virtue of his judgment, and execution on the growing crop; that harrison had a right to convey it, without being in any manner restrained by them; that the writing adduced, was a sale of the crop, but if it was not, and the lien of the fieri facias would have attached upon it, when gathered, yet if the claimants obtained possession on the', ''), ('after', 'it merely inhibits the levy, but the lien attaches, and a levy and sale may be made', ''), ('more than', 'taking this to be clear *744 law, and it will be seen, that the defendant in execution at the time of the levy had nothing', ''), ('before', 'it has been frequently mooted whether, at common law, corn, &c.,', ''), ('before', '**4 the statute which presents the question', ''), ('after', 'now, if the view taken by the majority of the court, is correct, the right secured to the plaintiff in execution, of levying on the crop', ''), ('before', 'tried', ''), ('before', 'tried', ''), ('before', 'tried', ''), ('before', 'tried', ''), ('before', 'tried', ''), ('before', 'tried', '')]\n",
            "\n"
          ],
          "name": "stdout"
        }
      ]
    },
    {
      "cell_type": "code",
      "metadata": {
        "colab": {
          "base_uri": "https://localhost:8080/"
        },
        "id": "hkcuM3FgIMHr",
        "outputId": "c7fc422f-fea3-4da6-9802-57f8cdc683ad"
      },
      "source": [
        "import lexnlp.extract.en.copyright                   #copyright\r\n",
        "def get(word,data):\r\n",
        "  if len(data)==0:\r\n",
        "    print(f\"{word} :None\")\r\n",
        "    print()\r\n",
        "  else:\r\n",
        "    print(f\"{word} :{data}\")\r\n",
        "    print()\r\n",
        "get('copyright',list(lexnlp.extract.en.copyright.get_copyright(file)))\r\n",
        "\r\n"
      ],
      "execution_count": 28,
      "outputs": [
        {
          "output_type": "stream",
          "text": [
            "copyright :[('©', '2019', 'Thomson Reuters. No')]\n",
            "\n"
          ],
          "name": "stdout"
        }
      ]
    },
    {
      "cell_type": "code",
      "metadata": {
        "colab": {
          "base_uri": "https://localhost:8080/"
        },
        "id": "QYnMXxdMITWe",
        "outputId": "55b656c2-170d-4386-be67-1cf134b150a4"
      },
      "source": [
        "import lexnlp.extract.en.geoentities     #geoentities\r\n",
        "geo_list = []\r\n",
        "def get(word,data):\r\n",
        "    if len(data)==0:\r\n",
        "      print(f\"{word} :None\")\r\n",
        "      print()\r\n",
        "    else:\r\n",
        "      print(f\"{word} :{data}\")\r\n",
        "      print()\r\n",
        "get('geoentities',list(lexnlp.extract.en.geoentities.get_geoentities(file,geo_list)))\r\n"
      ],
      "execution_count": 32,
      "outputs": [
        {
          "output_type": "stream",
          "text": [
            "geoentities :None\n",
            "\n"
          ],
          "name": "stdout"
        }
      ]
    },
    {
      "cell_type": "code",
      "metadata": {
        "colab": {
          "base_uri": "https://localhost:8080/"
        },
        "id": "xH7rMByAIYWX",
        "outputId": "99f40f67-3a96-426c-c93c-246c2475ec13"
      },
      "source": [
        "import lexnlp.extract.en.cusip                         #cusip\r\n",
        "def get(word,data):\r\n",
        "  if len(data)==0:\r\n",
        "    print(f\"{word} :None\")\r\n",
        "    print()\r\n",
        "  else:\r\n",
        "    print(f\"{word} :{data}\")\r\n",
        "    print()\r\n",
        "get('cusip',list(lexnlp.extract.en.cusip.get_cusip(file)))\r\n",
        "\r\n"
      ],
      "execution_count": 33,
      "outputs": [
        {
          "output_type": "stream",
          "text": [
            "cusip :None\n",
            "\n"
          ],
          "name": "stdout"
        }
      ]
    },
    {
      "cell_type": "code",
      "metadata": {
        "colab": {
          "base_uri": "https://localhost:8080/"
        },
        "id": "MLXoFWSzIzDS",
        "outputId": "31a2a496-997c-495f-a69b-2bfecce76341"
      },
      "source": [
        "import lexnlp.extract.en.dates                        #dates\r\n",
        "def get(word,data):\r\n",
        "  if len(data)==0:\r\n",
        "    print(f\"{word} :None\")\r\n",
        "    print()\r\n",
        "  else:\r\n",
        "    print(f\"{word} :{data}\")\r\n",
        "    print()\r\n",
        "get('dates',list(lexnlp.extract.en.dates.get_dates(file)))"
      ],
      "execution_count": 34,
      "outputs": [
        {
          "output_type": "stream",
          "text": [
            "/usr/local/lib/python3.7/dist-packages/sklearn/base.py:318: UserWarning: Trying to unpickle estimator SelectKBest from version 0.23.1 when using version 0.22.2.post1. This might lead to breaking code or invalid results. Use at your own risk.\n",
            "  state = self.__dict__.copy()\n",
            "/usr/local/lib/python3.7/dist-packages/sklearn/base.py:318: UserWarning: Trying to unpickle estimator LogisticRegressionCV from version 0.23.1 when using version 0.22.2.post1. This might lead to breaking code or invalid results. Use at your own risk.\n",
            "  state = self.__dict__.copy()\n",
            "/usr/local/lib/python3.7/dist-packages/sklearn/base.py:318: UserWarning: Trying to unpickle estimator Pipeline from version 0.23.1 when using version 0.22.2.post1. This might lead to breaking code or invalid results. Use at your own risk.\n",
            "  state = self.__dict__.copy()\n"
          ],
          "name": "stderr"
        },
        {
          "output_type": "stream",
          "text": [
            "dates :[datetime.date(2021, 6, 1), datetime.date(1840, 11, 1), datetime.date(1839, 10, 1), datetime.date(1840, 9, 1), datetime.date(1840, 5, 1), datetime.date(1840, 5, 1), datetime.date(2021, 12, 1), datetime.date(2021, 12, 1), datetime.date(2021, 1, 1), datetime.date(2021, 1, 1), datetime.date(2021, 1, 1), datetime.date(2021, 3, 21), datetime.date(2021, 6, 1), datetime.date(2021, 7, 1), datetime.date(2021, 11, 1)]\n",
            "\n"
          ],
          "name": "stdout"
        }
      ]
    },
    {
      "cell_type": "code",
      "metadata": {
        "colab": {
          "base_uri": "https://localhost:8080/"
        },
        "id": "tbPfEcNqI69U",
        "outputId": "ebc61e50-6050-4472-c29b-9e095e439265"
      },
      "source": [
        "import lexnlp.extract.en.definitions         #definitions\r\n",
        "def get(word,data):\r\n",
        "  if len(data)==0:\r\n",
        "    print(f\"{word} :None\")\r\n",
        "    print()\r\n",
        "  else:\r\n",
        "    print(f\"{word} :{data}\")\r\n",
        "    print()\r\n",
        "get('definitions',list(lexnlp.extract.en.definitions.get_definitions(file)))\r\n"
      ],
      "execution_count": 35,
      "outputs": [
        {
          "output_type": "stream",
          "text": [
            "definitions :None\n",
            "\n"
          ],
          "name": "stdout"
        }
      ]
    },
    {
      "cell_type": "code",
      "metadata": {
        "colab": {
          "base_uri": "https://localhost:8080/"
        },
        "id": "26tJxNenJEwd",
        "outputId": "13a0a702-d705-4501-d91c-5ff842d9b023"
      },
      "source": [
        "import lexnlp.extract.en.distances           #distances\r\n",
        "def get(word,data):\r\n",
        "  if len(data)==0:\r\n",
        "    print(f\"{word} :None\")\r\n",
        "    print()\r\n",
        "  else:\r\n",
        "    print(f\"{word} :{data}\")\r\n",
        "    print()\r\n",
        "get('distances',list(lexnlp.extract.en.distances.get_distances(file)))\r\n"
      ],
      "execution_count": 36,
      "outputs": [
        {
          "output_type": "stream",
          "text": [
            "distances :None\n",
            "\n"
          ],
          "name": "stdout"
        }
      ]
    },
    {
      "cell_type": "code",
      "metadata": {
        "colab": {
          "base_uri": "https://localhost:8080/"
        },
        "id": "zHduT3HwJR8G",
        "outputId": "bc6e1a66-f3a7-40da-98a9-cd0080218d6d"
      },
      "source": [
        "import lexnlp.extract.en.durations          #durations\r\n",
        "def get(word,data):\r\n",
        "  if len(data)==0:\r\n",
        "    print(f\"{word} :None\")\r\n",
        "    print()\r\n",
        "  else:\r\n",
        "    print(f\"{word} :{data}\")\r\n",
        "    print()\r\n",
        "get('durations',list(lexnlp.extract.en.durations.get_durations(file)))\r\n",
        "\r\n"
      ],
      "execution_count": 37,
      "outputs": [
        {
          "output_type": "stream",
          "text": [
            "durations :[('second', Decimal('20.0'), Decimal('0.0002')), ('year', Decimal('6.0'), Decimal('2190.0'))]\n",
            "\n"
          ],
          "name": "stdout"
        }
      ]
    },
    {
      "cell_type": "code",
      "metadata": {
        "colab": {
          "base_uri": "https://localhost:8080/"
        },
        "id": "ORTwl7gGJYAA",
        "outputId": "a05c3b8b-d23c-4e94-fc50-184dbdfe76b3"
      },
      "source": [
        "import lexnlp.extract.en.money                 #money\r\n",
        "def get(word,data):\r\n",
        "  if len(data)==0:\r\n",
        "    print(f\"{word} :None\")\r\n",
        "    print()\r\n",
        "  else:\r\n",
        "    print(f\"{word} :{data}\")\r\n",
        "    print()\r\n",
        "get('money',list(lexnlp.extract.en.money.get_money(file)))\r\n"
      ],
      "execution_count": 38,
      "outputs": [
        {
          "output_type": "stream",
          "text": [
            "money :[(Decimal('100.0'), 'USD'), (Decimal('14000.0'), 'USD'), (Decimal('14000.0'), 'USD')]\n",
            "\n"
          ],
          "name": "stdout"
        }
      ]
    },
    {
      "cell_type": "code",
      "metadata": {
        "colab": {
          "base_uri": "https://localhost:8080/"
        },
        "id": "LirCl-BvJmrS",
        "outputId": "467c77a2-ea34-4596-f5da-a9a71d4723e3"
      },
      "source": [
        "import lexnlp.extract.en.percents          #percents\r\n",
        "def get(word,data):\r\n",
        "  if len(data)==0:\r\n",
        "    print(f\"{word} :None\")\r\n",
        "    print()\r\n",
        "  else:\r\n",
        "    print(f\"{word} :{data}\")\r\n",
        "    print()\r\n",
        "get('percents',list(lexnlp.extract.en.percents.get_percents(file)))\r\n"
      ],
      "execution_count": 39,
      "outputs": [
        {
          "output_type": "stream",
          "text": [
            "percents :None\n",
            "\n"
          ],
          "name": "stdout"
        }
      ]
    },
    {
      "cell_type": "code",
      "metadata": {
        "colab": {
          "base_uri": "https://localhost:8080/"
        },
        "id": "pzt5SlOxJr7A",
        "outputId": "2c7e4aa2-2f35-453b-a297-19d6b8a5879f"
      },
      "source": [
        "import lexnlp.extract.en.pii                      #pii\r\n",
        "def get(word,data):\r\n",
        "  if len(data)==0:\r\n",
        "    print(f\"{word} :None\")\r\n",
        "    print()\r\n",
        "  else:\r\n",
        "    print(f\"{word} :{data}\")\r\n",
        "    print()\r\n",
        "get('pii',list(lexnlp.extract.en.pii.get_pii(file)))\r\n"
      ],
      "execution_count": 40,
      "outputs": [
        {
          "output_type": "stream",
          "text": [
            "pii :None\n",
            "\n"
          ],
          "name": "stdout"
        }
      ]
    },
    {
      "cell_type": "code",
      "metadata": {
        "colab": {
          "base_uri": "https://localhost:8080/"
        },
        "id": "CdMGdVABJynd",
        "outputId": "d856558d-e87b-4034-9b1e-b3785c9fdc89"
      },
      "source": [
        "import lexnlp.extract.en.ratios                     #ratios\r\n",
        "def get(word,data):\r\n",
        "  if len(data)==0:\r\n",
        "    print(f\"{word} :None\")\r\n",
        "    print()\r\n",
        "  else:\r\n",
        "    print(f\"{word} :{data}\")\r\n",
        "    print()\r\n",
        "get('ratios',list(lexnlp.extract.en.ratios.get_ratios(file)))\r\n"
      ],
      "execution_count": 41,
      "outputs": [
        {
          "output_type": "stream",
          "text": [
            "ratios :None\n",
            "\n"
          ],
          "name": "stdout"
        }
      ]
    },
    {
      "cell_type": "code",
      "metadata": {
        "colab": {
          "base_uri": "https://localhost:8080/"
        },
        "id": "Smn-jt3xKB58",
        "outputId": "e58651fb-5787-4e2e-9d29-e0d8b06ffadc"
      },
      "source": [
        "import lexnlp.extract.en.regulations          #regulations\r\n",
        "def get(word,data):\r\n",
        "  if len(data)==0:\r\n",
        "    print(f\"{word} :None\")\r\n",
        "    print()\r\n",
        "  else:\r\n",
        "    print(f\"{word} :{data}\")\r\n",
        "    print()\r\n",
        "get('regulations',list(lexnlp.extract.en.regulations.get_regulations(file)))\r\n"
      ],
      "execution_count": 42,
      "outputs": [
        {
          "output_type": "stream",
          "text": [
            "regulations :None\n",
            "\n"
          ],
          "name": "stdout"
        }
      ]
    },
    {
      "cell_type": "code",
      "metadata": {
        "colab": {
          "base_uri": "https://localhost:8080/"
        },
        "id": "6IWg8fuLKIf3",
        "outputId": "d4b81615-bf0e-4f52-9e94-0da9d8b203c2"
      },
      "source": [
        "import lexnlp.extract.en.trademarks                 #trademarks\r\n",
        "def get(word,data):\r\n",
        "  if len(data)==0:\r\n",
        "    print(f\"{word} :None\")\r\n",
        "    print()\r\n",
        "  else:\r\n",
        "    print(f\"{word} :{data}\")\r\n",
        "    print()\r\n",
        "get('trademarks',list(lexnlp.extract.en.trademarks.get_trademarks(file)))\r\n"
      ],
      "execution_count": 43,
      "outputs": [
        {
          "output_type": "stream",
          "text": [
            "trademarks :None\n",
            "\n"
          ],
          "name": "stdout"
        }
      ]
    },
    {
      "cell_type": "code",
      "metadata": {
        "colab": {
          "base_uri": "https://localhost:8080/"
        },
        "id": "YtV1xeSqKWh1",
        "outputId": "0c7c109c-59fa-4c71-f6f3-767156f16ac0"
      },
      "source": [
        "import lexnlp.extract.en.urls                    #urls\r\n",
        "def get(word,data):\r\n",
        "  if len(data)==0:\r\n",
        "    print(f\"{word} :None\")\r\n",
        "    print()\r\n",
        "  else:\r\n",
        "    print(f\"{word} :{data}\")\r\n",
        "    print()\r\n",
        "get('urls',list(lexnlp.extract.en.urls.get_urls(file)))\r\n"
      ],
      "execution_count": 44,
      "outputs": [
        {
          "output_type": "stream",
          "text": [
            "urls :None\n",
            "\n"
          ],
          "name": "stdout"
        }
      ]
    },
    {
      "cell_type": "code",
      "metadata": {
        "colab": {
          "base_uri": "https://localhost:8080/"
        },
        "id": "r6-QzfuNK9Wf",
        "outputId": "488bbe4a-f40a-4f84-d0bd-64220e8dcd39"
      },
      "source": [
        "\r\n",
        "!pip install pyap                             #address\r\n",
        "import pyap\r\n",
        "address=pyap.parse(file, country='US')\r\n",
        "loc=[]\r\n",
        "for m in address:\r\n",
        "  location.append( m)\r\n",
        "if len(loc)==0:\r\n",
        "  print('None')\r\n",
        "else:\r\n",
        "  print(loc)"
      ],
      "execution_count": 45,
      "outputs": [
        {
          "output_type": "stream",
          "text": [
            "Collecting pyap\n",
            "  Downloading https://files.pythonhosted.org/packages/53/b2/f0f962a5385d54cd91c153df93932b4996b793f1a2145807823d7f71328d/pyap-0.3.1-py2.py3-none-any.whl\n",
            "Installing collected packages: pyap\n",
            "Successfully installed pyap-0.3.1\n",
            "None\n"
          ],
          "name": "stdout"
        }
      ]
    },
    {
      "cell_type": "code",
      "metadata": {
        "colab": {
          "base_uri": "https://localhost:8080/"
        },
        "id": "qm22EM4biqk8",
        "outputId": "2f29f337-c678-4fcb-d578-ebbc86ceebe4"
      },
      "source": [
        "import nltk                            #persons\r\n",
        "from nltk.corpus import stopwords\r\n",
        "nltk.download('maxent_ne_chunker')\r\n",
        "nltk.download('stopwords')\r\n",
        "nltk.download('words')\r\n",
        "stop = stopwords.words('english')\r\n",
        "def ie_preprocess(doc):\r\n",
        "    doc = ' '.join([i for i in doc.split() if i not in stop])\r\n",
        "    se = nltk.sent_tokenize(doc)\r\n",
        "    se = [nltk.word_tokenize(sent) for sent in se]\r\n",
        "    se= [nltk.pos_tag(sent) for sent in se]\r\n",
        "    return se\r\n",
        "\r\n",
        "def extract_names(doc):\r\n",
        "    names = []\r\n",
        "    se = ie_preprocess(doc)\r\n",
        "    for t in se:\r\n",
        "        for chunk in nltk.ne_chunk(t):\r\n",
        "            if type(chunk) == nltk.tree.Tree:\r\n",
        "                if chunk.label() == 'PERSON':\r\n",
        "                    names.append(' '.join([c[0] for c in chunk]))\r\n",
        "    return names\r\n",
        "\r\n",
        "if __name__ == '__main__':\r\n",
        "    names = extract_names(file)\r\n",
        "print(names)"
      ],
      "execution_count": 50,
      "outputs": [
        {
          "output_type": "stream",
          "text": [
            "[nltk_data] Downloading package maxent_ne_chunker to\n",
            "[nltk_data]     /root/nltk_data...\n",
            "[nltk_data]   Package maxent_ne_chunker is already up-to-date!\n",
            "[nltk_data] Downloading package stopwords to /root/nltk_data...\n",
            "[nltk_data]   Package stopwords is already up-to-date!\n",
            "[nltk_data] Downloading package words to /root/nltk_data...\n",
            "[nltk_data]   Package words is already up-to-date!\n",
            "['Synopsis', 'Chattel Mortgages', 'Lien Priority', 'Allen Harrison', 'Allen Harrison', 'Harrison', 'Harrison', 'Burton', 'Harrison Sumter', 'Harrison', 'Tennessee', 'Harrison', 'Harrison', 'Firms R.', 'Harrison', 'Johns', 'Harrison', 'Johns', 'Johns', 'Harrison', 'Johns', 'Opinion', 'Foot', 'Johns', 'Stewart', 'Doughty', 'Johns', 'Sawyer', 'See', 'Lee', 'Perkins Elliott', 'Mr.', 'Bacon', 'Poole', 'Salk', 'Whipple', 'Foot', 'Mansony Hurtell', 'Wood', 'Jones', 'Adm', 'Cotton', 'Counts Case', 'Circuit Court Hale', 'Hon', 'Durr', 'Hon', 'JOHN', 'Jan', 'Bibb', 'Hon', 'JOHN', 'Jan', 'Circuit Court Barbour', 'Hon', 'Jan', 'Circuit Court Autauga', 'Hon', 'Jun', 'Jacob S. Cohen', 'Court', 'Cohen', 'Bales Cotton', 'Circuit Court Etowah', 'Hon', 'Nov', 'Referenced Title Type Depth Quoted Page Number', 'Circuit Court Tuskaloosa', 'Johns']\n"
          ],
          "name": "stdout"
        }
      ]
    }
  ]
}